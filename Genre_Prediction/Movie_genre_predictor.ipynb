{
  "nbformat": 4,
  "nbformat_minor": 0,
  "metadata": {
    "colab": {
      "provenance": [],
      "toc_visible": true,
      "include_colab_link": true
    },
    "kernelspec": {
      "name": "python3",
      "display_name": "Python 3"
    },
    "language_info": {
      "name": "python"
    }
  },
  "cells": [
    {
      "cell_type": "markdown",
      "metadata": {
        "id": "view-in-github",
        "colab_type": "text"
      },
      "source": [
        "<a href=\"https://colab.research.google.com/github/fahadrafiq94/Data-Semantics-/blob/main/Movie_genre_predictor.ipynb\" target=\"_parent\"><img src=\"https://colab.research.google.com/assets/colab-badge.svg\" alt=\"Open In Colab\"/></a>"
      ]
    },
    {
      "cell_type": "markdown",
      "source": [
        "## 1. Importing Libararies"
      ],
      "metadata": {
        "id": "eyWzyuuxGTJx"
      }
    },
    {
      "cell_type": "code",
      "execution_count": null,
      "metadata": {
        "id": "9pBvgoONDQ9i",
        "colab": {
          "base_uri": "https://localhost:8080/"
        },
        "outputId": "22cf5fb4-0349-46fa-9791-c90d0063492c"
      },
      "outputs": [
        {
          "output_type": "stream",
          "name": "stderr",
          "text": [
            "[nltk_data] Downloading package stopwords to /root/nltk_data...\n",
            "[nltk_data]   Package stopwords is already up-to-date!\n",
            "[nltk_data] Downloading package punkt to /root/nltk_data...\n",
            "[nltk_data]   Package punkt is already up-to-date!\n"
          ]
        },
        {
          "output_type": "execute_result",
          "data": {
            "text/plain": [
              "True"
            ]
          },
          "metadata": {},
          "execution_count": 1
        }
      ],
      "source": [
        "import pandas as pd #Data manipulation\n",
        "import numpy as np\n",
        "from scipy.stats import randint\n",
        "import seaborn as sns # used for plot interactive graph.\n",
        "import matplotlib.pyplot as plt\n",
        "import seaborn as sns\n",
        "from io import StringIO\n",
        "from sklearn.model_selection import train_test_split\n",
        "from sklearn.feature_extraction.text import TfidfVectorizer\n",
        "from sklearn.naive_bayes import MultinomialNB\n",
        "from sklearn.preprocessing import LabelEncoder\n",
        "from sklearn.pipeline import make_pipeline\n",
        "from sklearn import metrics\n",
        "import nltk\n",
        "from nltk.corpus import stopwords\n",
        "from nltk.tokenize import word_tokenize\n",
        "from nltk.stem import PorterStemmer\n",
        "import string\n",
        "from tensorflow.keras import layers, regularizers\n",
        "\n",
        "nltk.download('stopwords')\n",
        "nltk.download('punkt')"
      ]
    },
    {
      "cell_type": "markdown",
      "source": [
        "## 2. Becoming one with Data"
      ],
      "metadata": {
        "id": "JtaEm9nRGXzQ"
      }
    },
    {
      "cell_type": "code",
      "source": [
        "# Define column names\n",
        "column_names = [\"Movie Name\", \"Genre\", \"Description\"]\n",
        "\n",
        "# Read the CSV into a DataFrame with column names\n",
        "df = pd.read_csv(\"/content/drive/MyDrive/movie_genre_prediction/train_data.txt\", sep=\":::\", header=None, names=column_names)\n"
      ],
      "metadata": {
        "id": "ueN0FHppDdEa",
        "colab": {
          "base_uri": "https://localhost:8080/"
        },
        "outputId": "69f839cf-a5cf-4b82-9cbe-aefaf1abbb11"
      },
      "execution_count": null,
      "outputs": [
        {
          "output_type": "stream",
          "name": "stderr",
          "text": [
            "<ipython-input-2-2aaaab22e5bc>:5: ParserWarning: Falling back to the 'python' engine because the 'c' engine does not support regex separators (separators > 1 char and different from '\\s+' are interpreted as regex); you can avoid this warning by specifying engine='python'.\n",
            "  df = pd.read_csv(\"/content/drive/MyDrive/movie_genre_prediction/train_data.txt\", sep=\":::\", header=None, names=column_names)\n"
          ]
        }
      ]
    },
    {
      "cell_type": "code",
      "source": [
        "df.head()"
      ],
      "metadata": {
        "colab": {
          "base_uri": "https://localhost:8080/",
          "height": 206
        },
        "id": "0cuUgyePLcDi",
        "outputId": "0a1ce226-e3bf-4a7d-aecc-096958b9b551"
      },
      "execution_count": null,
      "outputs": [
        {
          "output_type": "execute_result",
          "data": {
            "text/plain": [
              "                           Movie Name       Genre  \\\n",
              "1       Oscar et la dame rose (2009)       drama    \n",
              "2                       Cupid (1997)    thriller    \n",
              "3   Young, Wild and Wonderful (1980)       adult    \n",
              "4              The Secret Sin (1915)       drama    \n",
              "5             The Unrecovered (2007)       drama    \n",
              "\n",
              "                                         Description  \n",
              "1   Listening in to a conversation between his do...  \n",
              "2   A brother and sister with a past incestuous r...  \n",
              "3   As the bus empties the students for their fie...  \n",
              "4   To help their unemployed father make ends mee...  \n",
              "5   The film's title refers not only to the un-re...  "
            ],
            "text/html": [
              "\n",
              "  <div id=\"df-82a3fcac-40d2-40b0-b7a7-58d252e1c32c\" class=\"colab-df-container\">\n",
              "    <div>\n",
              "<style scoped>\n",
              "    .dataframe tbody tr th:only-of-type {\n",
              "        vertical-align: middle;\n",
              "    }\n",
              "\n",
              "    .dataframe tbody tr th {\n",
              "        vertical-align: top;\n",
              "    }\n",
              "\n",
              "    .dataframe thead th {\n",
              "        text-align: right;\n",
              "    }\n",
              "</style>\n",
              "<table border=\"1\" class=\"dataframe\">\n",
              "  <thead>\n",
              "    <tr style=\"text-align: right;\">\n",
              "      <th></th>\n",
              "      <th>Movie Name</th>\n",
              "      <th>Genre</th>\n",
              "      <th>Description</th>\n",
              "    </tr>\n",
              "  </thead>\n",
              "  <tbody>\n",
              "    <tr>\n",
              "      <th>1</th>\n",
              "      <td>Oscar et la dame rose (2009)</td>\n",
              "      <td>drama</td>\n",
              "      <td>Listening in to a conversation between his do...</td>\n",
              "    </tr>\n",
              "    <tr>\n",
              "      <th>2</th>\n",
              "      <td>Cupid (1997)</td>\n",
              "      <td>thriller</td>\n",
              "      <td>A brother and sister with a past incestuous r...</td>\n",
              "    </tr>\n",
              "    <tr>\n",
              "      <th>3</th>\n",
              "      <td>Young, Wild and Wonderful (1980)</td>\n",
              "      <td>adult</td>\n",
              "      <td>As the bus empties the students for their fie...</td>\n",
              "    </tr>\n",
              "    <tr>\n",
              "      <th>4</th>\n",
              "      <td>The Secret Sin (1915)</td>\n",
              "      <td>drama</td>\n",
              "      <td>To help their unemployed father make ends mee...</td>\n",
              "    </tr>\n",
              "    <tr>\n",
              "      <th>5</th>\n",
              "      <td>The Unrecovered (2007)</td>\n",
              "      <td>drama</td>\n",
              "      <td>The film's title refers not only to the un-re...</td>\n",
              "    </tr>\n",
              "  </tbody>\n",
              "</table>\n",
              "</div>\n",
              "    <div class=\"colab-df-buttons\">\n",
              "\n",
              "  <div class=\"colab-df-container\">\n",
              "    <button class=\"colab-df-convert\" onclick=\"convertToInteractive('df-82a3fcac-40d2-40b0-b7a7-58d252e1c32c')\"\n",
              "            title=\"Convert this dataframe to an interactive table.\"\n",
              "            style=\"display:none;\">\n",
              "\n",
              "  <svg xmlns=\"http://www.w3.org/2000/svg\" height=\"24px\" viewBox=\"0 -960 960 960\">\n",
              "    <path d=\"M120-120v-720h720v720H120Zm60-500h600v-160H180v160Zm220 220h160v-160H400v160Zm0 220h160v-160H400v160ZM180-400h160v-160H180v160Zm440 0h160v-160H620v160ZM180-180h160v-160H180v160Zm440 0h160v-160H620v160Z\"/>\n",
              "  </svg>\n",
              "    </button>\n",
              "\n",
              "  <style>\n",
              "    .colab-df-container {\n",
              "      display:flex;\n",
              "      gap: 12px;\n",
              "    }\n",
              "\n",
              "    .colab-df-convert {\n",
              "      background-color: #E8F0FE;\n",
              "      border: none;\n",
              "      border-radius: 50%;\n",
              "      cursor: pointer;\n",
              "      display: none;\n",
              "      fill: #1967D2;\n",
              "      height: 32px;\n",
              "      padding: 0 0 0 0;\n",
              "      width: 32px;\n",
              "    }\n",
              "\n",
              "    .colab-df-convert:hover {\n",
              "      background-color: #E2EBFA;\n",
              "      box-shadow: 0px 1px 2px rgba(60, 64, 67, 0.3), 0px 1px 3px 1px rgba(60, 64, 67, 0.15);\n",
              "      fill: #174EA6;\n",
              "    }\n",
              "\n",
              "    .colab-df-buttons div {\n",
              "      margin-bottom: 4px;\n",
              "    }\n",
              "\n",
              "    [theme=dark] .colab-df-convert {\n",
              "      background-color: #3B4455;\n",
              "      fill: #D2E3FC;\n",
              "    }\n",
              "\n",
              "    [theme=dark] .colab-df-convert:hover {\n",
              "      background-color: #434B5C;\n",
              "      box-shadow: 0px 1px 3px 1px rgba(0, 0, 0, 0.15);\n",
              "      filter: drop-shadow(0px 1px 2px rgba(0, 0, 0, 0.3));\n",
              "      fill: #FFFFFF;\n",
              "    }\n",
              "  </style>\n",
              "\n",
              "    <script>\n",
              "      const buttonEl =\n",
              "        document.querySelector('#df-82a3fcac-40d2-40b0-b7a7-58d252e1c32c button.colab-df-convert');\n",
              "      buttonEl.style.display =\n",
              "        google.colab.kernel.accessAllowed ? 'block' : 'none';\n",
              "\n",
              "      async function convertToInteractive(key) {\n",
              "        const element = document.querySelector('#df-82a3fcac-40d2-40b0-b7a7-58d252e1c32c');\n",
              "        const dataTable =\n",
              "          await google.colab.kernel.invokeFunction('convertToInteractive',\n",
              "                                                    [key], {});\n",
              "        if (!dataTable) return;\n",
              "\n",
              "        const docLinkHtml = 'Like what you see? Visit the ' +\n",
              "          '<a target=\"_blank\" href=https://colab.research.google.com/notebooks/data_table.ipynb>data table notebook</a>'\n",
              "          + ' to learn more about interactive tables.';\n",
              "        element.innerHTML = '';\n",
              "        dataTable['output_type'] = 'display_data';\n",
              "        await google.colab.output.renderOutput(dataTable, element);\n",
              "        const docLink = document.createElement('div');\n",
              "        docLink.innerHTML = docLinkHtml;\n",
              "        element.appendChild(docLink);\n",
              "      }\n",
              "    </script>\n",
              "  </div>\n",
              "\n",
              "\n",
              "<div id=\"df-c48490ab-9fab-4fe8-92a2-cdd562c2323c\">\n",
              "  <button class=\"colab-df-quickchart\" onclick=\"quickchart('df-c48490ab-9fab-4fe8-92a2-cdd562c2323c')\"\n",
              "            title=\"Suggest charts\"\n",
              "            style=\"display:none;\">\n",
              "\n",
              "<svg xmlns=\"http://www.w3.org/2000/svg\" height=\"24px\"viewBox=\"0 0 24 24\"\n",
              "     width=\"24px\">\n",
              "    <g>\n",
              "        <path d=\"M19 3H5c-1.1 0-2 .9-2 2v14c0 1.1.9 2 2 2h14c1.1 0 2-.9 2-2V5c0-1.1-.9-2-2-2zM9 17H7v-7h2v7zm4 0h-2V7h2v10zm4 0h-2v-4h2v4z\"/>\n",
              "    </g>\n",
              "</svg>\n",
              "  </button>\n",
              "\n",
              "<style>\n",
              "  .colab-df-quickchart {\n",
              "      --bg-color: #E8F0FE;\n",
              "      --fill-color: #1967D2;\n",
              "      --hover-bg-color: #E2EBFA;\n",
              "      --hover-fill-color: #174EA6;\n",
              "      --disabled-fill-color: #AAA;\n",
              "      --disabled-bg-color: #DDD;\n",
              "  }\n",
              "\n",
              "  [theme=dark] .colab-df-quickchart {\n",
              "      --bg-color: #3B4455;\n",
              "      --fill-color: #D2E3FC;\n",
              "      --hover-bg-color: #434B5C;\n",
              "      --hover-fill-color: #FFFFFF;\n",
              "      --disabled-bg-color: #3B4455;\n",
              "      --disabled-fill-color: #666;\n",
              "  }\n",
              "\n",
              "  .colab-df-quickchart {\n",
              "    background-color: var(--bg-color);\n",
              "    border: none;\n",
              "    border-radius: 50%;\n",
              "    cursor: pointer;\n",
              "    display: none;\n",
              "    fill: var(--fill-color);\n",
              "    height: 32px;\n",
              "    padding: 0;\n",
              "    width: 32px;\n",
              "  }\n",
              "\n",
              "  .colab-df-quickchart:hover {\n",
              "    background-color: var(--hover-bg-color);\n",
              "    box-shadow: 0 1px 2px rgba(60, 64, 67, 0.3), 0 1px 3px 1px rgba(60, 64, 67, 0.15);\n",
              "    fill: var(--button-hover-fill-color);\n",
              "  }\n",
              "\n",
              "  .colab-df-quickchart-complete:disabled,\n",
              "  .colab-df-quickchart-complete:disabled:hover {\n",
              "    background-color: var(--disabled-bg-color);\n",
              "    fill: var(--disabled-fill-color);\n",
              "    box-shadow: none;\n",
              "  }\n",
              "\n",
              "  .colab-df-spinner {\n",
              "    border: 2px solid var(--fill-color);\n",
              "    border-color: transparent;\n",
              "    border-bottom-color: var(--fill-color);\n",
              "    animation:\n",
              "      spin 1s steps(1) infinite;\n",
              "  }\n",
              "\n",
              "  @keyframes spin {\n",
              "    0% {\n",
              "      border-color: transparent;\n",
              "      border-bottom-color: var(--fill-color);\n",
              "      border-left-color: var(--fill-color);\n",
              "    }\n",
              "    20% {\n",
              "      border-color: transparent;\n",
              "      border-left-color: var(--fill-color);\n",
              "      border-top-color: var(--fill-color);\n",
              "    }\n",
              "    30% {\n",
              "      border-color: transparent;\n",
              "      border-left-color: var(--fill-color);\n",
              "      border-top-color: var(--fill-color);\n",
              "      border-right-color: var(--fill-color);\n",
              "    }\n",
              "    40% {\n",
              "      border-color: transparent;\n",
              "      border-right-color: var(--fill-color);\n",
              "      border-top-color: var(--fill-color);\n",
              "    }\n",
              "    60% {\n",
              "      border-color: transparent;\n",
              "      border-right-color: var(--fill-color);\n",
              "    }\n",
              "    80% {\n",
              "      border-color: transparent;\n",
              "      border-right-color: var(--fill-color);\n",
              "      border-bottom-color: var(--fill-color);\n",
              "    }\n",
              "    90% {\n",
              "      border-color: transparent;\n",
              "      border-bottom-color: var(--fill-color);\n",
              "    }\n",
              "  }\n",
              "</style>\n",
              "\n",
              "  <script>\n",
              "    async function quickchart(key) {\n",
              "      const quickchartButtonEl =\n",
              "        document.querySelector('#' + key + ' button');\n",
              "      quickchartButtonEl.disabled = true;  // To prevent multiple clicks.\n",
              "      quickchartButtonEl.classList.add('colab-df-spinner');\n",
              "      try {\n",
              "        const charts = await google.colab.kernel.invokeFunction(\n",
              "            'suggestCharts', [key], {});\n",
              "      } catch (error) {\n",
              "        console.error('Error during call to suggestCharts:', error);\n",
              "      }\n",
              "      quickchartButtonEl.classList.remove('colab-df-spinner');\n",
              "      quickchartButtonEl.classList.add('colab-df-quickchart-complete');\n",
              "    }\n",
              "    (() => {\n",
              "      let quickchartButtonEl =\n",
              "        document.querySelector('#df-c48490ab-9fab-4fe8-92a2-cdd562c2323c button');\n",
              "      quickchartButtonEl.style.display =\n",
              "        google.colab.kernel.accessAllowed ? 'block' : 'none';\n",
              "    })();\n",
              "  </script>\n",
              "</div>\n",
              "    </div>\n",
              "  </div>\n"
            ]
          },
          "metadata": {},
          "execution_count": 3
        }
      ]
    },
    {
      "cell_type": "code",
      "source": [
        "pd.DataFrame(df.Genre.unique()).values\n",
        "counts =df.Genre.value_counts()\n",
        "print(counts)\n",
        "len(counts)"
      ],
      "metadata": {
        "colab": {
          "base_uri": "https://localhost:8080/"
        },
        "id": "VyMleGPJLq8J",
        "outputId": "c5989404-d8bd-42ea-bff2-1adf9b8ea9fb"
      },
      "execution_count": null,
      "outputs": [
        {
          "output_type": "stream",
          "name": "stdout",
          "text": [
            " drama           13613\n",
            " documentary     13096\n",
            " comedy           7447\n",
            " short            5073\n",
            " horror           2204\n",
            " thriller         1591\n",
            " action           1315\n",
            " western          1032\n",
            " reality-tv        884\n",
            " family            784\n",
            " adventure         775\n",
            " music             731\n",
            " romance           672\n",
            " sci-fi            647\n",
            " adult             590\n",
            " crime             505\n",
            " animation         498\n",
            " sport             432\n",
            " talk-show         391\n",
            " fantasy           323\n",
            " mystery           319\n",
            " musical           277\n",
            " biography         265\n",
            " history           243\n",
            " game-show         194\n",
            " news              181\n",
            " war               132\n",
            "Name: Genre, dtype: int64\n"
          ]
        },
        {
          "output_type": "execute_result",
          "data": {
            "text/plain": [
              "27"
            ]
          },
          "metadata": {},
          "execution_count": 4
        }
      ]
    },
    {
      "cell_type": "code",
      "source": [
        "fig = plt.figure(figsize=(8,6))\n",
        "colors = ['grey','grey','grey','grey','grey',\n",
        "    'grey','darkblue','darkblue','darkblue']\n",
        "df.groupby('Genre').Genre.count().sort_values().plot.barh(\n",
        "    ylim=0, color=colors, title= 'Number of count of Movie Genre\\n')\n",
        "plt.xlabel('Number of ocurrences', fontsize = 10);"
      ],
      "metadata": {
        "colab": {
          "base_uri": "https://localhost:8080/",
          "height": 585
        },
        "id": "gsbXy_4wPrqe",
        "outputId": "99a7e9ac-f145-4779-f434-1e63b780c9a7"
      },
      "execution_count": null,
      "outputs": [
        {
          "output_type": "display_data",
          "data": {
            "text/plain": [
              "<Figure size 800x600 with 1 Axes>"
            ],
            "image/png": "[encoded data removed]"
          },
          "metadata": {}
        }
      ]
    },
    {
      "cell_type": "markdown",
      "source": [
        "## 3. Preprocessing"
      ],
      "metadata": {
        "id": "58Grlkw9R5o2"
      }
    },
    {
      "cell_type": "code",
      "source": [
        "# Text preprocessing function\n",
        "def preprocess_text(text):\n",
        "    # Convert to lowercase\n",
        "    text = text.lower()\n",
        "\n",
        "    # Remove punctuation\n",
        "    text = text.translate(str.maketrans('', '', string.punctuation))\n",
        "\n",
        "    # Tokenization\n",
        "    tokens = word_tokenize(text)\n",
        "\n",
        "    # Remove stop words\n",
        "    stop_words = set(stopwords.words('english'))\n",
        "    tokens = [word for word in tokens if word not in stop_words]\n",
        "    return ' '.join(tokens)\n"
      ],
      "metadata": {
        "id": "ejsitZkkOEA1"
      },
      "execution_count": null,
      "outputs": []
    },
    {
      "cell_type": "code",
      "source": [
        "# Apply text preprocessing to the Description\n",
        "df['Processed_Description'] = df['Description'].apply(preprocess_text)"
      ],
      "metadata": {
        "id": "W-z4RixwOtqJ"
      },
      "execution_count": null,
      "outputs": []
    },
    {
      "cell_type": "code",
      "source": [
        "df.head()"
      ],
      "metadata": {
        "colab": {
          "base_uri": "https://localhost:8080/",
          "height": 206
        },
        "id": "1NP_nHKjOzis",
        "outputId": "4de6d7bb-a879-4cad-f2db-54c67c93e6ff"
      },
      "execution_count": null,
      "outputs": [
        {
          "output_type": "execute_result",
          "data": {
            "text/plain": [
              "                           Movie Name       Genre  \\\n",
              "1       Oscar et la dame rose (2009)       drama    \n",
              "2                       Cupid (1997)    thriller    \n",
              "3   Young, Wild and Wonderful (1980)       adult    \n",
              "4              The Secret Sin (1915)       drama    \n",
              "5             The Unrecovered (2007)       drama    \n",
              "\n",
              "                                         Description  \\\n",
              "1   Listening in to a conversation between his do...   \n",
              "2   A brother and sister with a past incestuous r...   \n",
              "3   As the bus empties the students for their fie...   \n",
              "4   To help their unemployed father make ends mee...   \n",
              "5   The film's title refers not only to the un-re...   \n",
              "\n",
              "                               Processed_Description  \n",
              "1  listening conversation doctor parents 10yearol...  \n",
              "2  brother sister past incestuous relationship cu...  \n",
              "3  bus empties students field trip museum natural...  \n",
              "4  help unemployed father make ends meet edith tw...  \n",
              "5  films title refers unrecovered bodies ground z...  "
            ],
            "text/html": [
              "\n",
              "  <div id=\"df-00945034-e00c-4971-9e4c-7c334d070045\" class=\"colab-df-container\">\n",
              "    <div>\n",
              "<style scoped>\n",
              "    .dataframe tbody tr th:only-of-type {\n",
              "        vertical-align: middle;\n",
              "    }\n",
              "\n",
              "    .dataframe tbody tr th {\n",
              "        vertical-align: top;\n",
              "    }\n",
              "\n",
              "    .dataframe thead th {\n",
              "        text-align: right;\n",
              "    }\n",
              "</style>\n",
              "<table border=\"1\" class=\"dataframe\">\n",
              "  <thead>\n",
              "    <tr style=\"text-align: right;\">\n",
              "      <th></th>\n",
              "      <th>Movie Name</th>\n",
              "      <th>Genre</th>\n",
              "      <th>Description</th>\n",
              "      <th>Processed_Description</th>\n",
              "    </tr>\n",
              "  </thead>\n",
              "  <tbody>\n",
              "    <tr>\n",
              "      <th>1</th>\n",
              "      <td>Oscar et la dame rose (2009)</td>\n",
              "      <td>drama</td>\n",
              "      <td>Listening in to a conversation between his do...</td>\n",
              "      <td>listening conversation doctor parents 10yearol...</td>\n",
              "    </tr>\n",
              "    <tr>\n",
              "      <th>2</th>\n",
              "      <td>Cupid (1997)</td>\n",
              "      <td>thriller</td>\n",
              "      <td>A brother and sister with a past incestuous r...</td>\n",
              "      <td>brother sister past incestuous relationship cu...</td>\n",
              "    </tr>\n",
              "    <tr>\n",
              "      <th>3</th>\n",
              "      <td>Young, Wild and Wonderful (1980)</td>\n",
              "      <td>adult</td>\n",
              "      <td>As the bus empties the students for their fie...</td>\n",
              "      <td>bus empties students field trip museum natural...</td>\n",
              "    </tr>\n",
              "    <tr>\n",
              "      <th>4</th>\n",
              "      <td>The Secret Sin (1915)</td>\n",
              "      <td>drama</td>\n",
              "      <td>To help their unemployed father make ends mee...</td>\n",
              "      <td>help unemployed father make ends meet edith tw...</td>\n",
              "    </tr>\n",
              "    <tr>\n",
              "      <th>5</th>\n",
              "      <td>The Unrecovered (2007)</td>\n",
              "      <td>drama</td>\n",
              "      <td>The film's title refers not only to the un-re...</td>\n",
              "      <td>films title refers unrecovered bodies ground z...</td>\n",
              "    </tr>\n",
              "  </tbody>\n",
              "</table>\n",
              "</div>\n",
              "    <div class=\"colab-df-buttons\">\n",
              "\n",
              "  <div class=\"colab-df-container\">\n",
              "    <button class=\"colab-df-convert\" onclick=\"convertToInteractive('df-00945034-e00c-4971-9e4c-7c334d070045')\"\n",
              "            title=\"Convert this dataframe to an interactive table.\"\n",
              "            style=\"display:none;\">\n",
              "\n",
              "  <svg xmlns=\"http://www.w3.org/2000/svg\" height=\"24px\" viewBox=\"0 -960 960 960\">\n",
              "    <path d=\"M120-120v-720h720v720H120Zm60-500h600v-160H180v160Zm220 220h160v-160H400v160Zm0 220h160v-160H400v160ZM180-400h160v-160H180v160Zm440 0h160v-160H620v160ZM180-180h160v-160H180v160Zm440 0h160v-160H620v160Z\"/>\n",
              "  </svg>\n",
              "    </button>\n",
              "\n",
              "  <style>\n",
              "    .colab-df-container {\n",
              "      display:flex;\n",
              "      gap: 12px;\n",
              "    }\n",
              "\n",
              "    .colab-df-convert {\n",
              "      background-color: #E8F0FE;\n",
              "      border: none;\n",
              "      border-radius: 50%;\n",
              "      cursor: pointer;\n",
              "      display: none;\n",
              "      fill: #1967D2;\n",
              "      height: 32px;\n",
              "      padding: 0 0 0 0;\n",
              "      width: 32px;\n",
              "    }\n",
              "\n",
              "    .colab-df-convert:hover {\n",
              "      background-color: #E2EBFA;\n",
              "      box-shadow: 0px 1px 2px rgba(60, 64, 67, 0.3), 0px 1px 3px 1px rgba(60, 64, 67, 0.15);\n",
              "      fill: #174EA6;\n",
              "    }\n",
              "\n",
              "    .colab-df-buttons div {\n",
              "      margin-bottom: 4px;\n",
              "    }\n",
              "\n",
              "    [theme=dark] .colab-df-convert {\n",
              "      background-color: #3B4455;\n",
              "      fill: #D2E3FC;\n",
              "    }\n",
              "\n",
              "    [theme=dark] .colab-df-convert:hover {\n",
              "      background-color: #434B5C;\n",
              "      box-shadow: 0px 1px 3px 1px rgba(0, 0, 0, 0.15);\n",
              "      filter: drop-shadow(0px 1px 2px rgba(0, 0, 0, 0.3));\n",
              "      fill: #FFFFFF;\n",
              "    }\n",
              "  </style>\n",
              "\n",
              "    <script>\n",
              "      const buttonEl =\n",
              "        document.querySelector('#df-00945034-e00c-4971-9e4c-7c334d070045 button.colab-df-convert');\n",
              "      buttonEl.style.display =\n",
              "        google.colab.kernel.accessAllowed ? 'block' : 'none';\n",
              "\n",
              "      async function convertToInteractive(key) {\n",
              "        const element = document.querySelector('#df-00945034-e00c-4971-9e4c-7c334d070045');\n",
              "        const dataTable =\n",
              "          await google.colab.kernel.invokeFunction('convertToInteractive',\n",
              "                                                    [key], {});\n",
              "        if (!dataTable) return;\n",
              "\n",
              "        const docLinkHtml = 'Like what you see? Visit the ' +\n",
              "          '<a target=\"_blank\" href=https://colab.research.google.com/notebooks/data_table.ipynb>data table notebook</a>'\n",
              "          + ' to learn more about interactive tables.';\n",
              "        element.innerHTML = '';\n",
              "        dataTable['output_type'] = 'display_data';\n",
              "        await google.colab.output.renderOutput(dataTable, element);\n",
              "        const docLink = document.createElement('div');\n",
              "        docLink.innerHTML = docLinkHtml;\n",
              "        element.appendChild(docLink);\n",
              "      }\n",
              "    </script>\n",
              "  </div>\n",
              "\n",
              "\n",
              "<div id=\"df-faaf35df-1af6-451b-9381-1ac09e894be7\">\n",
              "  <button class=\"colab-df-quickchart\" onclick=\"quickchart('df-faaf35df-1af6-451b-9381-1ac09e894be7')\"\n",
              "            title=\"Suggest charts\"\n",
              "            style=\"display:none;\">\n",
              "\n",
              "<svg xmlns=\"http://www.w3.org/2000/svg\" height=\"24px\"viewBox=\"0 0 24 24\"\n",
              "     width=\"24px\">\n",
              "    <g>\n",
              "        <path d=\"M19 3H5c-1.1 0-2 .9-2 2v14c0 1.1.9 2 2 2h14c1.1 0 2-.9 2-2V5c0-1.1-.9-2-2-2zM9 17H7v-7h2v7zm4 0h-2V7h2v10zm4 0h-2v-4h2v4z\"/>\n",
              "    </g>\n",
              "</svg>\n",
              "  </button>\n",
              "\n",
              "<style>\n",
              "  .colab-df-quickchart {\n",
              "      --bg-color: #E8F0FE;\n",
              "      --fill-color: #1967D2;\n",
              "      --hover-bg-color: #E2EBFA;\n",
              "      --hover-fill-color: #174EA6;\n",
              "      --disabled-fill-color: #AAA;\n",
              "      --disabled-bg-color: #DDD;\n",
              "  }\n",
              "\n",
              "  [theme=dark] .colab-df-quickchart {\n",
              "      --bg-color: #3B4455;\n",
              "      --fill-color: #D2E3FC;\n",
              "      --hover-bg-color: #434B5C;\n",
              "      --hover-fill-color: #FFFFFF;\n",
              "      --disabled-bg-color: #3B4455;\n",
              "      --disabled-fill-color: #666;\n",
              "  }\n",
              "\n",
              "  .colab-df-quickchart {\n",
              "    background-color: var(--bg-color);\n",
              "    border: none;\n",
              "    border-radius: 50%;\n",
              "    cursor: pointer;\n",
              "    display: none;\n",
              "    fill: var(--fill-color);\n",
              "    height: 32px;\n",
              "    padding: 0;\n",
              "    width: 32px;\n",
              "  }\n",
              "\n",
              "  .colab-df-quickchart:hover {\n",
              "    background-color: var(--hover-bg-color);\n",
              "    box-shadow: 0 1px 2px rgba(60, 64, 67, 0.3), 0 1px 3px 1px rgba(60, 64, 67, 0.15);\n",
              "    fill: var(--button-hover-fill-color);\n",
              "  }\n",
              "\n",
              "  .colab-df-quickchart-complete:disabled,\n",
              "  .colab-df-quickchart-complete:disabled:hover {\n",
              "    background-color: var(--disabled-bg-color);\n",
              "    fill: var(--disabled-fill-color);\n",
              "    box-shadow: none;\n",
              "  }\n",
              "\n",
              "  .colab-df-spinner {\n",
              "    border: 2px solid var(--fill-color);\n",
              "    border-color: transparent;\n",
              "    border-bottom-color: var(--fill-color);\n",
              "    animation:\n",
              "      spin 1s steps(1) infinite;\n",
              "  }\n",
              "\n",
              "  @keyframes spin {\n",
              "    0% {\n",
              "      border-color: transparent;\n",
              "      border-bottom-color: var(--fill-color);\n",
              "      border-left-color: var(--fill-color);\n",
              "    }\n",
              "    20% {\n",
              "      border-color: transparent;\n",
              "      border-left-color: var(--fill-color);\n",
              "      border-top-color: var(--fill-color);\n",
              "    }\n",
              "    30% {\n",
              "      border-color: transparent;\n",
              "      border-left-color: var(--fill-color);\n",
              "      border-top-color: var(--fill-color);\n",
              "      border-right-color: var(--fill-color);\n",
              "    }\n",
              "    40% {\n",
              "      border-color: transparent;\n",
              "      border-right-color: var(--fill-color);\n",
              "      border-top-color: var(--fill-color);\n",
              "    }\n",
              "    60% {\n",
              "      border-color: transparent;\n",
              "      border-right-color: var(--fill-color);\n",
              "    }\n",
              "    80% {\n",
              "      border-color: transparent;\n",
              "      border-right-color: var(--fill-color);\n",
              "      border-bottom-color: var(--fill-color);\n",
              "    }\n",
              "    90% {\n",
              "      border-color: transparent;\n",
              "      border-bottom-color: var(--fill-color);\n",
              "    }\n",
              "  }\n",
              "</style>\n",
              "\n",
              "  <script>\n",
              "    async function quickchart(key) {\n",
              "      const quickchartButtonEl =\n",
              "        document.querySelector('#' + key + ' button');\n",
              "      quickchartButtonEl.disabled = true;  // To prevent multiple clicks.\n",
              "      quickchartButtonEl.classList.add('colab-df-spinner');\n",
              "      try {\n",
              "        const charts = await google.colab.kernel.invokeFunction(\n",
              "            'suggestCharts', [key], {});\n",
              "      } catch (error) {\n",
              "        console.error('Error during call to suggestCharts:', error);\n",
              "      }\n",
              "      quickchartButtonEl.classList.remove('colab-df-spinner');\n",
              "      quickchartButtonEl.classList.add('colab-df-quickchart-complete');\n",
              "    }\n",
              "    (() => {\n",
              "      let quickchartButtonEl =\n",
              "        document.querySelector('#df-faaf35df-1af6-451b-9381-1ac09e894be7 button');\n",
              "      quickchartButtonEl.style.display =\n",
              "        google.colab.kernel.accessAllowed ? 'block' : 'none';\n",
              "    })();\n",
              "  </script>\n",
              "</div>\n",
              "    </div>\n",
              "  </div>\n"
            ]
          },
          "metadata": {},
          "execution_count": 8
        }
      ]
    },
    {
      "cell_type": "code",
      "source": [
        "# Use LabelEncoder to encode the 'Genre' column\n",
        "label_encoder = LabelEncoder()\n",
        "df['Label_Genre'] = label_encoder.fit_transform(df['Genre'])"
      ],
      "metadata": {
        "id": "5VjioB7uPKxg"
      },
      "execution_count": null,
      "outputs": []
    },
    {
      "cell_type": "code",
      "source": [
        "df.head()"
      ],
      "metadata": {
        "colab": {
          "base_uri": "https://localhost:8080/",
          "height": 206
        },
        "id": "D2BtngmxRXzW",
        "outputId": "8e8b6087-9352-425c-f574-7abef1bb51b9"
      },
      "execution_count": null,
      "outputs": [
        {
          "output_type": "execute_result",
          "data": {
            "text/plain": [
              "                           Movie Name       Genre  \\\n",
              "1       Oscar et la dame rose (2009)       drama    \n",
              "2                       Cupid (1997)    thriller    \n",
              "3   Young, Wild and Wonderful (1980)       adult    \n",
              "4              The Secret Sin (1915)       drama    \n",
              "5             The Unrecovered (2007)       drama    \n",
              "\n",
              "                                         Description  \\\n",
              "1   Listening in to a conversation between his do...   \n",
              "2   A brother and sister with a past incestuous r...   \n",
              "3   As the bus empties the students for their fie...   \n",
              "4   To help their unemployed father make ends mee...   \n",
              "5   The film's title refers not only to the un-re...   \n",
              "\n",
              "                               Processed_Description  Label_Genre  \n",
              "1  listening conversation doctor parents 10yearol...            8  \n",
              "2  brother sister past incestuous relationship cu...           24  \n",
              "3  bus empties students field trip museum natural...            1  \n",
              "4  help unemployed father make ends meet edith tw...            8  \n",
              "5  films title refers unrecovered bodies ground z...            8  "
            ],
            "text/html": [
              "\n",
              "  <div id=\"df-5ae668cf-f599-4b4c-904e-ac514b2b409c\" class=\"colab-df-container\">\n",
              "    <div>\n",
              "<style scoped>\n",
              "    .dataframe tbody tr th:only-of-type {\n",
              "        vertical-align: middle;\n",
              "    }\n",
              "\n",
              "    .dataframe tbody tr th {\n",
              "        vertical-align: top;\n",
              "    }\n",
              "\n",
              "    .dataframe thead th {\n",
              "        text-align: right;\n",
              "    }\n",
              "</style>\n",
              "<table border=\"1\" class=\"dataframe\">\n",
              "  <thead>\n",
              "    <tr style=\"text-align: right;\">\n",
              "      <th></th>\n",
              "      <th>Movie Name</th>\n",
              "      <th>Genre</th>\n",
              "      <th>Description</th>\n",
              "      <th>Processed_Description</th>\n",
              "      <th>Label_Genre</th>\n",
              "    </tr>\n",
              "  </thead>\n",
              "  <tbody>\n",
              "    <tr>\n",
              "      <th>1</th>\n",
              "      <td>Oscar et la dame rose (2009)</td>\n",
              "      <td>drama</td>\n",
              "      <td>Listening in to a conversation between his do...</td>\n",
              "      <td>listening conversation doctor parents 10yearol...</td>\n",
              "      <td>8</td>\n",
              "    </tr>\n",
              "    <tr>\n",
              "      <th>2</th>\n",
              "      <td>Cupid (1997)</td>\n",
              "      <td>thriller</td>\n",
              "      <td>A brother and sister with a past incestuous r...</td>\n",
              "      <td>brother sister past incestuous relationship cu...</td>\n",
              "      <td>24</td>\n",
              "    </tr>\n",
              "    <tr>\n",
              "      <th>3</th>\n",
              "      <td>Young, Wild and Wonderful (1980)</td>\n",
              "      <td>adult</td>\n",
              "      <td>As the bus empties the students for their fie...</td>\n",
              "      <td>bus empties students field trip museum natural...</td>\n",
              "      <td>1</td>\n",
              "    </tr>\n",
              "    <tr>\n",
              "      <th>4</th>\n",
              "      <td>The Secret Sin (1915)</td>\n",
              "      <td>drama</td>\n",
              "      <td>To help their unemployed father make ends mee...</td>\n",
              "      <td>help unemployed father make ends meet edith tw...</td>\n",
              "      <td>8</td>\n",
              "    </tr>\n",
              "    <tr>\n",
              "      <th>5</th>\n",
              "      <td>The Unrecovered (2007)</td>\n",
              "      <td>drama</td>\n",
              "      <td>The film's title refers not only to the un-re...</td>\n",
              "      <td>films title refers unrecovered bodies ground z...</td>\n",
              "      <td>8</td>\n",
              "    </tr>\n",
              "  </tbody>\n",
              "</table>\n",
              "</div>\n",
              "    <div class=\"colab-df-buttons\">\n",
              "\n",
              "  <div class=\"colab-df-container\">\n",
              "    <button class=\"colab-df-convert\" onclick=\"convertToInteractive('df-5ae668cf-f599-4b4c-904e-ac514b2b409c')\"\n",
              "            title=\"Convert this dataframe to an interactive table.\"\n",
              "            style=\"display:none;\">\n",
              "\n",
              "  <svg xmlns=\"http://www.w3.org/2000/svg\" height=\"24px\" viewBox=\"0 -960 960 960\">\n",
              "    <path d=\"M120-120v-720h720v720H120Zm60-500h600v-160H180v160Zm220 220h160v-160H400v160Zm0 220h160v-160H400v160ZM180-400h160v-160H180v160Zm440 0h160v-160H620v160ZM180-180h160v-160H180v160Zm440 0h160v-160H620v160Z\"/>\n",
              "  </svg>\n",
              "    </button>\n",
              "\n",
              "  <style>\n",
              "    .colab-df-container {\n",
              "      display:flex;\n",
              "      gap: 12px;\n",
              "    }\n",
              "\n",
              "    .colab-df-convert {\n",
              "      background-color: #E8F0FE;\n",
              "      border: none;\n",
              "      border-radius: 50%;\n",
              "      cursor: pointer;\n",
              "      display: none;\n",
              "      fill: #1967D2;\n",
              "      height: 32px;\n",
              "      padding: 0 0 0 0;\n",
              "      width: 32px;\n",
              "    }\n",
              "\n",
              "    .colab-df-convert:hover {\n",
              "      background-color: #E2EBFA;\n",
              "      box-shadow: 0px 1px 2px rgba(60, 64, 67, 0.3), 0px 1px 3px 1px rgba(60, 64, 67, 0.15);\n",
              "      fill: #174EA6;\n",
              "    }\n",
              "\n",
              "    .colab-df-buttons div {\n",
              "      margin-bottom: 4px;\n",
              "    }\n",
              "\n",
              "    [theme=dark] .colab-df-convert {\n",
              "      background-color: #3B4455;\n",
              "      fill: #D2E3FC;\n",
              "    }\n",
              "\n",
              "    [theme=dark] .colab-df-convert:hover {\n",
              "      background-color: #434B5C;\n",
              "      box-shadow: 0px 1px 3px 1px rgba(0, 0, 0, 0.15);\n",
              "      filter: drop-shadow(0px 1px 2px rgba(0, 0, 0, 0.3));\n",
              "      fill: #FFFFFF;\n",
              "    }\n",
              "  </style>\n",
              "\n",
              "    <script>\n",
              "      const buttonEl =\n",
              "        document.querySelector('#df-5ae668cf-f599-4b4c-904e-ac514b2b409c button.colab-df-convert');\n",
              "      buttonEl.style.display =\n",
              "        google.colab.kernel.accessAllowed ? 'block' : 'none';\n",
              "\n",
              "      async function convertToInteractive(key) {\n",
              "        const element = document.querySelector('#df-5ae668cf-f599-4b4c-904e-ac514b2b409c');\n",
              "        const dataTable =\n",
              "          await google.colab.kernel.invokeFunction('convertToInteractive',\n",
              "                                                    [key], {});\n",
              "        if (!dataTable) return;\n",
              "\n",
              "        const docLinkHtml = 'Like what you see? Visit the ' +\n",
              "          '<a target=\"_blank\" href=https://colab.research.google.com/notebooks/data_table.ipynb>data table notebook</a>'\n",
              "          + ' to learn more about interactive tables.';\n",
              "        element.innerHTML = '';\n",
              "        dataTable['output_type'] = 'display_data';\n",
              "        await google.colab.output.renderOutput(dataTable, element);\n",
              "        const docLink = document.createElement('div');\n",
              "        docLink.innerHTML = docLinkHtml;\n",
              "        element.appendChild(docLink);\n",
              "      }\n",
              "    </script>\n",
              "  </div>\n",
              "\n",
              "\n",
              "<div id=\"df-48ee0d41-0187-4723-b42e-930917353317\">\n",
              "  <button class=\"colab-df-quickchart\" onclick=\"quickchart('df-48ee0d41-0187-4723-b42e-930917353317')\"\n",
              "            title=\"Suggest charts\"\n",
              "            style=\"display:none;\">\n",
              "\n",
              "<svg xmlns=\"http://www.w3.org/2000/svg\" height=\"24px\"viewBox=\"0 0 24 24\"\n",
              "     width=\"24px\">\n",
              "    <g>\n",
              "        <path d=\"M19 3H5c-1.1 0-2 .9-2 2v14c0 1.1.9 2 2 2h14c1.1 0 2-.9 2-2V5c0-1.1-.9-2-2-2zM9 17H7v-7h2v7zm4 0h-2V7h2v10zm4 0h-2v-4h2v4z\"/>\n",
              "    </g>\n",
              "</svg>\n",
              "  </button>\n",
              "\n",
              "<style>\n",
              "  .colab-df-quickchart {\n",
              "      --bg-color: #E8F0FE;\n",
              "      --fill-color: #1967D2;\n",
              "      --hover-bg-color: #E2EBFA;\n",
              "      --hover-fill-color: #174EA6;\n",
              "      --disabled-fill-color: #AAA;\n",
              "      --disabled-bg-color: #DDD;\n",
              "  }\n",
              "\n",
              "  [theme=dark] .colab-df-quickchart {\n",
              "      --bg-color: #3B4455;\n",
              "      --fill-color: #D2E3FC;\n",
              "      --hover-bg-color: #434B5C;\n",
              "      --hover-fill-color: #FFFFFF;\n",
              "      --disabled-bg-color: #3B4455;\n",
              "      --disabled-fill-color: #666;\n",
              "  }\n",
              "\n",
              "  .colab-df-quickchart {\n",
              "    background-color: var(--bg-color);\n",
              "    border: none;\n",
              "    border-radius: 50%;\n",
              "    cursor: pointer;\n",
              "    display: none;\n",
              "    fill: var(--fill-color);\n",
              "    height: 32px;\n",
              "    padding: 0;\n",
              "    width: 32px;\n",
              "  }\n",
              "\n",
              "  .colab-df-quickchart:hover {\n",
              "    background-color: var(--hover-bg-color);\n",
              "    box-shadow: 0 1px 2px rgba(60, 64, 67, 0.3), 0 1px 3px 1px rgba(60, 64, 67, 0.15);\n",
              "    fill: var(--button-hover-fill-color);\n",
              "  }\n",
              "\n",
              "  .colab-df-quickchart-complete:disabled,\n",
              "  .colab-df-quickchart-complete:disabled:hover {\n",
              "    background-color: var(--disabled-bg-color);\n",
              "    fill: var(--disabled-fill-color);\n",
              "    box-shadow: none;\n",
              "  }\n",
              "\n",
              "  .colab-df-spinner {\n",
              "    border: 2px solid var(--fill-color);\n",
              "    border-color: transparent;\n",
              "    border-bottom-color: var(--fill-color);\n",
              "    animation:\n",
              "      spin 1s steps(1) infinite;\n",
              "  }\n",
              "\n",
              "  @keyframes spin {\n",
              "    0% {\n",
              "      border-color: transparent;\n",
              "      border-bottom-color: var(--fill-color);\n",
              "      border-left-color: var(--fill-color);\n",
              "    }\n",
              "    20% {\n",
              "      border-color: transparent;\n",
              "      border-left-color: var(--fill-color);\n",
              "      border-top-color: var(--fill-color);\n",
              "    }\n",
              "    30% {\n",
              "      border-color: transparent;\n",
              "      border-left-color: var(--fill-color);\n",
              "      border-top-color: var(--fill-color);\n",
              "      border-right-color: var(--fill-color);\n",
              "    }\n",
              "    40% {\n",
              "      border-color: transparent;\n",
              "      border-right-color: var(--fill-color);\n",
              "      border-top-color: var(--fill-color);\n",
              "    }\n",
              "    60% {\n",
              "      border-color: transparent;\n",
              "      border-right-color: var(--fill-color);\n",
              "    }\n",
              "    80% {\n",
              "      border-color: transparent;\n",
              "      border-right-color: var(--fill-color);\n",
              "      border-bottom-color: var(--fill-color);\n",
              "    }\n",
              "    90% {\n",
              "      border-color: transparent;\n",
              "      border-bottom-color: var(--fill-color);\n",
              "    }\n",
              "  }\n",
              "</style>\n",
              "\n",
              "  <script>\n",
              "    async function quickchart(key) {\n",
              "      const quickchartButtonEl =\n",
              "        document.querySelector('#' + key + ' button');\n",
              "      quickchartButtonEl.disabled = true;  // To prevent multiple clicks.\n",
              "      quickchartButtonEl.classList.add('colab-df-spinner');\n",
              "      try {\n",
              "        const charts = await google.colab.kernel.invokeFunction(\n",
              "            'suggestCharts', [key], {});\n",
              "      } catch (error) {\n",
              "        console.error('Error during call to suggestCharts:', error);\n",
              "      }\n",
              "      quickchartButtonEl.classList.remove('colab-df-spinner');\n",
              "      quickchartButtonEl.classList.add('colab-df-quickchart-complete');\n",
              "    }\n",
              "    (() => {\n",
              "      let quickchartButtonEl =\n",
              "        document.querySelector('#df-48ee0d41-0187-4723-b42e-930917353317 button');\n",
              "      quickchartButtonEl.style.display =\n",
              "        google.colab.kernel.accessAllowed ? 'block' : 'none';\n",
              "    })();\n",
              "  </script>\n",
              "</div>\n",
              "    </div>\n",
              "  </div>\n"
            ]
          },
          "metadata": {},
          "execution_count": 10
        }
      ]
    },
    {
      "cell_type": "code",
      "source": [
        "from sklearn.feature_extraction.text import TfidfVectorizer\n",
        "tfidf = TfidfVectorizer(sublinear_tf=True, min_df=5,\n",
        "                        ngram_range=(1, 2),\n",
        "                        stop_words='english')\n",
        "\n",
        "# We transform each complaint into a vector\n",
        "features = tfidf.fit_transform(df.Description).toarray()\n",
        "\n",
        "labels = df.Label_Genre\n",
        "\n",
        "print(\"Each of the %d Description is represented by %d features (TF-IDF score of unigrams and bigrams)\" %(features.shape))"
      ],
      "metadata": {
        "colab": {
          "base_uri": "https://localhost:8080/"
        },
        "id": "BY2KfkqURy7O",
        "outputId": "6a87d136-ee47-4fe4-8bf4-1fdff0bafe6d"
      },
      "execution_count": null,
      "outputs": [
        {
          "output_type": "stream",
          "name": "stdout",
          "text": [
            "Each of the 54214 Description is represented by 70972 features (TF-IDF score of unigrams and bigrams)\n"
          ]
        }
      ]
    },
    {
      "cell_type": "markdown",
      "source": [
        "## 4. Train Test Split"
      ],
      "metadata": {
        "id": "xatwtnMcR0uh"
      }
    },
    {
      "cell_type": "code",
      "source": [
        "# Use train_test_split to split training data into training and validation sets\n",
        "train_sentences, val_sentences, train_labels, val_labels = train_test_split(df[\"Processed_Description\"].to_numpy(),\n",
        "                                                                            df[\"Label_Genre\"].to_numpy(),\n",
        "                                                                            test_size=0.1, # dedicate 10% of samples to validation set\n",
        "                                                                            random_state=42) # random state for reproducibility"
      ],
      "metadata": {
        "id": "7sfqFZNCRZVC"
      },
      "execution_count": null,
      "outputs": []
    },
    {
      "cell_type": "code",
      "source": [
        "train_sentences.shape, val_sentences.shape, train_labels.shape, val_labels.shape"
      ],
      "metadata": {
        "colab": {
          "base_uri": "https://localhost:8080/"
        },
        "id": "eHJ1NII3cIna",
        "outputId": "ab1d93a4-c035-4f7c-d755-6775b661a1ff"
      },
      "execution_count": null,
      "outputs": [
        {
          "output_type": "execute_result",
          "data": {
            "text/plain": [
              "((48792,), (5422,), (48792,), (5422,))"
            ]
          },
          "metadata": {},
          "execution_count": 13
        }
      ]
    },
    {
      "cell_type": "markdown",
      "source": [
        "## 5. Convert text into Vectors"
      ],
      "metadata": {
        "id": "zTmnApVOW5gD"
      }
    },
    {
      "cell_type": "code",
      "source": [
        "import tensorflow as tf\n",
        "from tensorflow.keras.layers import TextVectorization"
      ],
      "metadata": {
        "id": "pEXsKd6_TQsW"
      },
      "execution_count": null,
      "outputs": []
    },
    {
      "cell_type": "code",
      "source": [
        "# Find average number of tokens (words) in training Tweets\n",
        "round(sum([len(i.split()) for i in train_sentences])/len(train_sentences))"
      ],
      "metadata": {
        "colab": {
          "base_uri": "https://localhost:8080/"
        },
        "id": "KzgZq5nSUfgQ",
        "outputId": "e5a6f3dd-f4de-48d6-f34f-20309acd5ec5"
      },
      "execution_count": null,
      "outputs": [
        {
          "output_type": "execute_result",
          "data": {
            "text/plain": [
              "57"
            ]
          },
          "metadata": {},
          "execution_count": 15
        }
      ]
    },
    {
      "cell_type": "code",
      "source": [
        "df['Processed_Description'].nunique()"
      ],
      "metadata": {
        "colab": {
          "base_uri": "https://localhost:8080/"
        },
        "id": "2aAYU6dnU92k",
        "outputId": "84204279-c68f-4381-b39f-8b6fe2e5032b"
      },
      "execution_count": null,
      "outputs": [
        {
          "output_type": "execute_result",
          "data": {
            "text/plain": [
              "54078"
            ]
          },
          "metadata": {},
          "execution_count": 16
        }
      ]
    },
    {
      "cell_type": "code",
      "source": [
        "# Setup text vectorization with custom variables\n",
        "max_length = 102 # max length our sequences will be (e.g. how many words from a description does our model see?)\n",
        "max_vocab_length = 54078\n",
        "text_vectorizer = TextVectorization(max_tokens=max_vocab_length ,\n",
        "                                    output_mode=\"int\",\n",
        "                                    output_sequence_length=max_length)"
      ],
      "metadata": {
        "id": "wPTuiAuCUglw"
      },
      "execution_count": null,
      "outputs": []
    },
    {
      "cell_type": "code",
      "source": [
        "# Fit the text vectorizer to the training text\n",
        "text_vectorizer.adapt(train_sentences)"
      ],
      "metadata": {
        "id": "3DiIfnFeWeTG"
      },
      "execution_count": null,
      "outputs": []
    },
    {
      "cell_type": "code",
      "source": [
        "# Create sample sentence and tokenize it\n",
        "sample_sentence = \"I love this movie\"\n",
        "text_vectorizer([sample_sentence])"
      ],
      "metadata": {
        "colab": {
          "base_uri": "https://localhost:8080/"
        },
        "id": "bIyFMVJ1Wi3K",
        "outputId": "4810f927-26ae-4422-dc2c-13a5837ff39c"
      },
      "execution_count": null,
      "outputs": [
        {
          "output_type": "execute_result",
          "data": {
            "text/plain": [
              "<tf.Tensor: shape=(1, 102), dtype=int64, numpy=\n",
              "array([[  1,  10,   1, 101,   0,   0,   0,   0,   0,   0,   0,   0,   0,\n",
              "          0,   0,   0,   0,   0,   0,   0,   0,   0,   0,   0,   0,   0,\n",
              "          0,   0,   0,   0,   0,   0,   0,   0,   0,   0,   0,   0,   0,\n",
              "          0,   0,   0,   0,   0,   0,   0,   0,   0,   0,   0,   0,   0,\n",
              "          0,   0,   0,   0,   0,   0,   0,   0,   0,   0,   0,   0,   0,\n",
              "          0,   0,   0,   0,   0,   0,   0,   0,   0,   0,   0,   0,   0,\n",
              "          0,   0,   0,   0,   0,   0,   0,   0,   0,   0,   0,   0,   0,\n",
              "          0,   0,   0,   0,   0,   0,   0,   0,   0,   0,   0]])>"
            ]
          },
          "metadata": {},
          "execution_count": 19
        }
      ]
    },
    {
      "cell_type": "code",
      "source": [
        "import random\n",
        "# Choose a random sentence from the training dataset and tokenize it\n",
        "random_sentence = random.choice(train_sentences)\n",
        "print(f\"Original text:\\n{random_sentence}\\\n",
        "      \\n\\nVectorized version:\")\n",
        "text_vectorizer([random_sentence])"
      ],
      "metadata": {
        "colab": {
          "base_uri": "https://localhost:8080/"
        },
        "id": "Wpck8JfvWyc9",
        "outputId": "ea5f3bec-f63a-4ce4-bbf6-5d2cbe4f3f10"
      },
      "execution_count": null,
      "outputs": [
        {
          "output_type": "stream",
          "name": "stdout",
          "text": [
            "Original text:\n",
            "based biography olive fredrickson tells life girl trappers wife later widow three small children surviving rugged pioneer conditions northern alberta canada early 1900s depression      \n",
            "\n",
            "Vectorized version:\n"
          ]
        },
        {
          "output_type": "execute_result",
          "data": {
            "text/plain": [
              "<tf.Tensor: shape=(1, 102), dtype=int64, numpy=\n",
              "array([[  173,  4952,  8951, 33251,   102,     2,    33, 27911,    38,\n",
              "          117,  1798,    37,    88,    77,  2367,  6560,  5128,  1404,\n",
              "         1291, 10272,  1100,   337, 15962,  1708,     0,     0,     0,\n",
              "            0,     0,     0,     0,     0,     0,     0,     0,     0,\n",
              "            0,     0,     0,     0,     0,     0,     0,     0,     0,\n",
              "            0,     0,     0,     0,     0,     0,     0,     0,     0,\n",
              "            0,     0,     0,     0,     0,     0,     0,     0,     0,\n",
              "            0,     0,     0,     0,     0,     0,     0,     0,     0,\n",
              "            0,     0,     0,     0,     0,     0,     0,     0,     0,\n",
              "            0,     0,     0,     0,     0,     0,     0,     0,     0,\n",
              "            0,     0,     0,     0,     0,     0,     0,     0,     0,\n",
              "            0,     0,     0]])>"
            ]
          },
          "metadata": {},
          "execution_count": 20
        }
      ]
    },
    {
      "cell_type": "code",
      "source": [
        "# Get the unique words in the vocabulary\n",
        "words_in_vocab = text_vectorizer.get_vocabulary()\n",
        "top_5_words = words_in_vocab[:5] # most common tokens (notice the [UNK] token for \"unknown\" words)\n",
        "bottom_5_words = words_in_vocab[-5:] # least common tokens\n",
        "print(f\"Number of words in vocab: {len(words_in_vocab)}\")\n",
        "print(f\"Top 5 most common words: {top_5_words}\")\n",
        "print(f\"Bottom 5 least common words: {bottom_5_words}\")"
      ],
      "metadata": {
        "colab": {
          "base_uri": "https://localhost:8080/"
        },
        "id": "vo_tpQR6XbuF",
        "outputId": "440a0496-3a43-4c2a-b282-bd4e4c357231"
      },
      "execution_count": null,
      "outputs": [
        {
          "output_type": "stream",
          "name": "stdout",
          "text": [
            "Number of words in vocab: 54078\n",
            "Top 5 most common words: ['', '[UNK]', 'life', 'one', 'film']\n",
            "Bottom 5 least common words: ['sandros', 'sandrini', 'sandpit', 'sandow', 'sando']\n"
          ]
        }
      ]
    },
    {
      "cell_type": "markdown",
      "source": [
        "## 6. Converting Vectors into Embeddings"
      ],
      "metadata": {
        "id": "zjD8sWlOYGWk"
      }
    },
    {
      "cell_type": "code",
      "source": [
        "tf.random.set_seed(42)\n",
        "from tensorflow.keras import layers\n",
        "\n",
        "embedding = layers.Embedding(input_dim=max_vocab_length, # set input shape\n",
        "                             output_dim=128, # set size of embedding vector\n",
        "                             embeddings_initializer=\"uniform\", # default, intialize randomly\n",
        "                             input_length=max_length, # how long is each input\n",
        "                             name=\"embedding_1\")\n",
        "\n",
        "embedding"
      ],
      "metadata": {
        "colab": {
          "base_uri": "https://localhost:8080/"
        },
        "id": "lAR34iA2Xoa-",
        "outputId": "17f8ad9d-127e-4958-8383-fc325b782152"
      },
      "execution_count": null,
      "outputs": [
        {
          "output_type": "execute_result",
          "data": {
            "text/plain": [
              "<keras.src.layers.core.embedding.Embedding at 0x7e19e1f0abc0>"
            ]
          },
          "metadata": {},
          "execution_count": 22
        }
      ]
    },
    {
      "cell_type": "code",
      "source": [
        "# Get a random sentence from training set\n",
        "random_sentence = random.choice(train_sentences)\n",
        "print(f\"Original text:\\n{random_sentence}\\\n",
        "      \\n\\nEmbedded version:\")\n",
        "\n",
        "# Embed the random sentence (turn it into numerical representation)\n",
        "sample_embed = embedding(text_vectorizer([random_sentence]))\n",
        "sample_embed"
      ],
      "metadata": {
        "colab": {
          "base_uri": "https://localhost:8080/"
        },
        "id": "E8BHDp79YadU",
        "outputId": "bf78a901-a1ff-4d9e-8637-4dc0fc447383"
      },
      "execution_count": null,
      "outputs": [
        {
          "output_type": "stream",
          "name": "stdout",
          "text": [
            "Original text:\n",
            "camille courtesan paris falls deeply love young man promise armand duval armands father begs ruin hopes career position marrying armand acquiesces leaves lover however poverty terminal illness overwhelm camille discovers armand lost love      \n",
            "\n",
            "Embedded version:\n"
          ]
        },
        {
          "output_type": "execute_result",
          "data": {
            "text/plain": [
              "<tf.Tensor: shape=(1, 102, 128), dtype=float32, numpy=\n",
              "array([[[-0.03875548, -0.04768859, -0.01177871, ...,  0.00088335,\n",
              "          0.04933796, -0.03682076],\n",
              "        [ 0.03053646, -0.0251089 ,  0.02964151, ..., -0.02410184,\n",
              "         -0.03794531, -0.0123053 ],\n",
              "        [ 0.03772997,  0.01994935,  0.02830033, ..., -0.00322435,\n",
              "         -0.02630302,  0.02222   ],\n",
              "        ...,\n",
              "        [ 0.00263793,  0.01646322,  0.00772778, ..., -0.04621169,\n",
              "          0.03788881, -0.03271723],\n",
              "        [ 0.00263793,  0.01646322,  0.00772778, ..., -0.04621169,\n",
              "          0.03788881, -0.03271723],\n",
              "        [ 0.00263793,  0.01646322,  0.00772778, ..., -0.04621169,\n",
              "          0.03788881, -0.03271723]]], dtype=float32)>"
            ]
          },
          "metadata": {},
          "execution_count": 23
        }
      ]
    },
    {
      "cell_type": "code",
      "source": [
        "from sklearn.metrics import accuracy_score, precision_recall_fscore_support\n",
        "\n",
        "def calculate_results(y_true, y_pred):\n",
        "  \"\"\"\n",
        "  Calculates model accuracy, precision, recall and f1 score of a binary classification model.\n",
        "\n",
        "  Args:\n",
        "  -----\n",
        "  y_true = true labels in the form of a 1D array\n",
        "  y_pred = predicted labels in the form of a 1D array\n",
        "\n",
        "  Returns a dictionary of accuracy, precision, recall, f1-score.\n",
        "  \"\"\"\n",
        "  # Calculate model accuracy\n",
        "  model_accuracy = accuracy_score(y_true, y_pred) * 100\n",
        "  # Calculate model precision, recall and f1 score using \"weighted\" average\n",
        "  model_precision, model_recall, model_f1, _ = precision_recall_fscore_support(y_true, y_pred, average=\"weighted\")\n",
        "  model_results = {\"accuracy\": model_accuracy,\n",
        "                  \"precision\": model_precision,\n",
        "                  \"recall\": model_recall,\n",
        "                  \"f1\": model_f1}\n",
        "  return model_results"
      ],
      "metadata": {
        "id": "9ZCwDaWpZCqB"
      },
      "execution_count": null,
      "outputs": []
    },
    {
      "cell_type": "code",
      "source": [
        "from tensorflow.keras.callbacks import EarlyStopping\n",
        "early_stopping = EarlyStopping(monitor='val_loss', patience=3)"
      ],
      "metadata": {
        "id": "bOYAZZdNvdoF"
      },
      "execution_count": null,
      "outputs": []
    },
    {
      "cell_type": "markdown",
      "source": [
        "## 7. LSTM Model"
      ],
      "metadata": {
        "id": "6bhxdGHCaJqd"
      }
    },
    {
      "cell_type": "code",
      "source": [
        "lstm_embedding = layers.Embedding(input_dim=max_vocab_length, # set input shape\n",
        "                             output_dim=128, # set size of embedding vector\n",
        "                             embeddings_initializer=\"uniform\", # default, intialize randomly\n",
        "                             input_length=max_length, # how long is each input\n",
        "                             name=\"lstm_embedding\")\n",
        "\n",
        "lstm_embedding"
      ],
      "metadata": {
        "colab": {
          "base_uri": "https://localhost:8080/"
        },
        "id": "FQwV2YCZaSuj",
        "outputId": "50083bf7-44f4-417c-a687-41e4eb82f77a"
      },
      "execution_count": null,
      "outputs": [
        {
          "output_type": "execute_result",
          "data": {
            "text/plain": [
              "<keras.src.layers.core.embedding.Embedding at 0x7b3e09452aa0>"
            ]
          },
          "metadata": {},
          "execution_count": 53
        }
      ]
    },
    {
      "cell_type": "code",
      "source": [
        "# Create LSTM model\n",
        "inputs = layers.Input(shape=(1,), dtype=\"string\")\n",
        "x = text_vectorizer(inputs)\n",
        "x = lstm_embedding(x)\n",
        "print(x.shape)\n",
        "# x = layers.LSTM(64, return_sequences=True)(x) # return vector for each word in the Description (you can stack RNN cells as long as return_sequences=True)\n",
        "x = layers.LSTM(64)(x) # return vector for whole sequence\n",
        "print(x.shape)\n",
        "x = layers.Dense(64, activation=\"relu\", kernel_regularizer=regularizers.l2(0.01))(x) # optional dense layer on top of output of LSTM cell\n",
        "outputs = layers.Dense(27, activation=\"softmax\")(x)\n",
        "lstm_model = tf.keras.Model(inputs, outputs, name=\"model_2_LSTM\")"
      ],
      "metadata": {
        "colab": {
          "base_uri": "https://localhost:8080/"
        },
        "id": "qv0e-I_pZ0j7",
        "outputId": "db2fd790-2780-4213-c9ad-9a9f18a85421"
      },
      "execution_count": null,
      "outputs": [
        {
          "output_type": "stream",
          "name": "stdout",
          "text": [
            "(None, 102, 128)\n",
            "(None, 64)\n"
          ]
        }
      ]
    },
    {
      "cell_type": "code",
      "source": [
        "# Compile model\n",
        "lstm_model.compile(loss=\"sparse_categorical_crossentropy\",\n",
        "                optimizer=tf.keras.optimizers.Adam(),\n",
        "                metrics=[\"accuracy\"])"
      ],
      "metadata": {
        "id": "Zrfi2mdCaing"
      },
      "execution_count": null,
      "outputs": []
    },
    {
      "cell_type": "code",
      "source": [
        "lstm_model.summary()"
      ],
      "metadata": {
        "colab": {
          "base_uri": "https://localhost:8080/"
        },
        "id": "Nm9CYvfEbTmc",
        "outputId": "8d1cdb22-7855-4a62-9614-994243d1494f"
      },
      "execution_count": null,
      "outputs": [
        {
          "output_type": "stream",
          "name": "stdout",
          "text": [
            "Model: \"model_2_LSTM\"\n",
            "_________________________________________________________________\n",
            " Layer (type)                Output Shape              Param #   \n",
            "=================================================================\n",
            " input_2 (InputLayer)        [(None, 1)]               0         \n",
            "                                                                 \n",
            " text_vectorization_2 (Text  (None, 102)               0         \n",
            " Vectorization)                                                  \n",
            "                                                                 \n",
            " lstm_embedding (Embedding)  (None, 102, 128)          6921984   \n",
            "                                                                 \n",
            " lstm_1 (LSTM)               (None, 64)                49408     \n",
            "                                                                 \n",
            " dense_2 (Dense)             (None, 64)                4160      \n",
            "                                                                 \n",
            " dense_3 (Dense)             (None, 27)                1755      \n",
            "                                                                 \n",
            "=================================================================\n",
            "Total params: 6977307 (26.62 MB)\n",
            "Trainable params: 6977307 (26.62 MB)\n",
            "Non-trainable params: 0 (0.00 Byte)\n",
            "_________________________________________________________________\n"
          ]
        }
      ]
    },
    {
      "cell_type": "code",
      "source": [
        "# Fit model\n",
        "lstm_model_history = lstm_model.fit(train_sentences,\n",
        "                              train_labels,\n",
        "                              epochs=10,\n",
        "                              validation_data=(val_sentences, val_labels),\n",
        "                              callbacks=[early_stopping])"
      ],
      "metadata": {
        "colab": {
          "base_uri": "https://localhost:8080/"
        },
        "id": "hQA4iJjzbZYA",
        "outputId": "a00705e9-69c4-4507-d85e-ffeaffba9984"
      },
      "execution_count": null,
      "outputs": [
        {
          "output_type": "stream",
          "name": "stdout",
          "text": [
            "Epoch 1/10\n",
            "1525/1525 [==============================] - 244s 158ms/step - loss: 2.4328 - accuracy: 0.2504 - val_loss: 2.3898 - val_accuracy: 0.2617\n",
            "Epoch 2/10\n",
            "1525/1525 [==============================] - 231s 152ms/step - loss: 2.0346 - accuracy: 0.4318 - val_loss: 1.9206 - val_accuracy: 0.4454\n",
            "Epoch 3/10\n",
            "1525/1525 [==============================] - 234s 153ms/step - loss: 1.7077 - accuracy: 0.5060 - val_loss: 1.8401 - val_accuracy: 0.4814\n",
            "Epoch 4/10\n",
            "1525/1525 [==============================] - 233s 153ms/step - loss: 1.4147 - accuracy: 0.6037 - val_loss: 1.8898 - val_accuracy: 0.4880\n",
            "Epoch 5/10\n",
            "1525/1525 [==============================] - 230s 151ms/step - loss: 1.1402 - accuracy: 0.6950 - val_loss: 2.0462 - val_accuracy: 0.4935\n",
            "Epoch 6/10\n",
            "1525/1525 [==============================] - 236s 155ms/step - loss: 0.9099 - accuracy: 0.7565 - val_loss: 2.1929 - val_accuracy: 0.4795\n"
          ]
        }
      ]
    },
    {
      "cell_type": "code",
      "source": [
        "pd.DataFrame(lstm_model_history .history).plot(figsize=(10, 7));"
      ],
      "metadata": {
        "colab": {
          "base_uri": "https://localhost:8080/",
          "height": 599
        },
        "id": "YIbMylUzhkwr",
        "outputId": "ed971f7c-4028-4b32-97e3-aef78f494a37"
      },
      "execution_count": null,
      "outputs": [
        {
          "output_type": "display_data",
          "data": {
            "text/plain": [
              "<Figure size 1000x700 with 1 Axes>"
            ],
            "image/png": "[encoded data removed]"
          },
          "metadata": {}
        }
      ]
    },
    {
      "cell_type": "code",
      "source": [
        "# Make predictions on the validation dataset\n",
        "lstm_model_pred_probs = lstm_model.predict(val_sentences)\n",
        "lstm_model_pred_probs.shape, lstm_model_pred_probs[:5] # view the first 5"
      ],
      "metadata": {
        "colab": {
          "base_uri": "https://localhost:8080/"
        },
        "id": "qlthbPbPbu3o",
        "outputId": "ec358ccf-696b-4bd8-b14b-ccf4422fb6cb"
      },
      "execution_count": null,
      "outputs": [
        {
          "output_type": "stream",
          "name": "stdout",
          "text": [
            "170/170 [==============================] - 3s 17ms/step\n"
          ]
        },
        {
          "output_type": "execute_result",
          "data": {
            "text/plain": [
              "((5422, 27),\n",
              " array([[3.6638085e-04, 1.0673935e-03, 1.5377467e-04, 2.4234524e-04,\n",
              "         1.9447607e-05, 9.4010079e-01, 1.4801184e-03, 1.7126449e-05,\n",
              "         1.9541942e-02, 1.0970942e-03, 2.8190610e-04, 1.9998991e-07,\n",
              "         1.2022723e-05, 1.0350046e-03, 3.6189139e-08, 2.0307822e-04,\n",
              "         6.4340449e-04, 7.7559451e-07, 2.4206678e-05, 1.5298122e-02,\n",
              "         3.5106223e-05, 8.6201103e-03, 8.7849791e-08, 3.4070456e-06,\n",
              "         9.7348830e-03, 2.0115522e-05, 1.1696562e-06],\n",
              "        [7.2222571e-03, 4.4590142e-04, 1.2664472e-03, 5.6187937e-04,\n",
              "         8.8076689e-04, 3.2134954e-02, 1.4646510e-02, 9.3399722e-04,\n",
              "         7.8764743e-01, 9.7907009e-03, 1.8931744e-03, 1.0707346e-06,\n",
              "         6.0518784e-04, 3.4767782e-04, 7.5223193e-06, 3.1379936e-03,\n",
              "         5.0184848e-03, 2.3328419e-05, 1.3039472e-04, 5.0066773e-02,\n",
              "         4.3674823e-04, 5.6658335e-02, 1.6243206e-05, 9.6181839e-06,\n",
              "         2.2502778e-02, 2.5777279e-03, 1.0360274e-03],\n",
              "        [2.2734334e-01, 4.1203443e-02, 2.0928945e-01, 7.9885043e-02,\n",
              "         9.3070854e-04, 1.3720237e-02, 3.0774456e-02, 1.9001804e-04,\n",
              "         5.0396151e-03, 6.6031918e-02, 5.2576091e-02, 4.9775899e-03,\n",
              "         1.5200269e-03, 1.2384811e-02, 1.0485705e-03, 1.9199651e-02,\n",
              "         2.3790903e-02, 5.5335095e-04, 9.5464922e-03, 8.1182370e-04,\n",
              "         1.4207590e-01, 2.0240881e-02, 1.3495350e-03, 2.4185930e-03,\n",
              "         1.5251217e-02, 5.6411820e-03, 1.2205109e-02],\n",
              "        [6.2265354e-03, 4.1354340e-02, 4.3241787e-03, 4.8213946e-03,\n",
              "         9.7032116e-06, 4.0935986e-02, 8.5994918e-03, 8.4058541e-07,\n",
              "         1.4339050e-03, 1.0355561e-03, 3.0010182e-03, 7.0001674e-06,\n",
              "         1.2493627e-05, 7.7833962e-01, 1.4000140e-07, 4.2809127e-04,\n",
              "         7.6406877e-03, 1.6112626e-06, 5.0747647e-05, 2.4359315e-03,\n",
              "         2.2258826e-03, 5.2422434e-03, 3.4030415e-07, 1.1195179e-05,\n",
              "         9.1785416e-02, 6.2820080e-05, 1.2955387e-05],\n",
              "        [2.0466326e-03, 4.8395876e-05, 5.2481075e-03, 1.0563311e-03,\n",
              "         5.8618132e-03, 8.4503132e-05, 1.9500862e-04, 4.5675986e-02,\n",
              "         4.3389996e-04, 1.2495179e-02, 1.5166155e-03, 1.1529385e-02,\n",
              "         1.2039136e-02, 2.5108093e-07, 5.4923147e-01, 6.8820766e-03,\n",
              "         1.3508830e-04, 2.3683900e-02, 5.8332708e-02, 7.0392116e-06,\n",
              "         4.6714754e-03, 6.6355900e-03, 2.1220411e-01, 3.3517316e-02,\n",
              "         3.5606135e-06, 3.2044882e-03, 3.2599734e-03]], dtype=float32))"
            ]
          },
          "metadata": {},
          "execution_count": 59
        }
      ]
    },
    {
      "cell_type": "code",
      "source": [
        "# Round out predictions and reduce to 1-dimensional array\n",
        "lstm_models_preds = np.argmax(lstm_model.predict(val_sentences), axis=1)\n",
        "lstm_models_preds[:10]"
      ],
      "metadata": {
        "colab": {
          "base_uri": "https://localhost:8080/"
        },
        "id": "AwzVhs1qfgYS",
        "outputId": "eae92665-3e28-4e72-83ab-6b891c890e19"
      },
      "execution_count": null,
      "outputs": [
        {
          "output_type": "stream",
          "name": "stdout",
          "text": [
            "170/170 [==============================] - 4s 22ms/step\n"
          ]
        },
        {
          "output_type": "execute_result",
          "data": {
            "text/plain": [
              "array([ 5,  8,  0, 13, 14,  8,  7,  0,  7,  8])"
            ]
          },
          "metadata": {},
          "execution_count": 60
        }
      ]
    },
    {
      "cell_type": "code",
      "source": [
        "# Calculate LSTM model results\n",
        "lstm_models_results = calculate_results(y_true=val_labels,\n",
        "                                    y_pred=lstm_models_preds)\n",
        "lstm_models_results"
      ],
      "metadata": {
        "colab": {
          "base_uri": "https://localhost:8080/"
        },
        "id": "e9xdU-uyfEqD",
        "outputId": "6e37bd06-66d6-49cd-defc-037d068e2ecc"
      },
      "execution_count": null,
      "outputs": [
        {
          "output_type": "stream",
          "name": "stderr",
          "text": [
            "/usr/local/lib/python3.10/dist-packages/sklearn/metrics/_classification.py:1344: UndefinedMetricWarning: Precision and F-score are ill-defined and being set to 0.0 in labels with no predicted samples. Use `zero_division` parameter to control this behavior.\n",
            "  _warn_prf(average, modifier, msg_start, len(result))\n"
          ]
        },
        {
          "output_type": "execute_result",
          "data": {
            "text/plain": [
              "{'accuracy': 47.952784950202876,\n",
              " 'precision': 0.4564337273740644,\n",
              " 'recall': 0.47952784950202876,\n",
              " 'f1': 0.4617424118999359}"
            ]
          },
          "metadata": {},
          "execution_count": 61
        }
      ]
    },
    {
      "cell_type": "markdown",
      "source": [
        "## 8. GRU"
      ],
      "metadata": {
        "id": "jhl4kJeggGwO"
      }
    },
    {
      "cell_type": "code",
      "source": [
        "# Set random seed and create embedding layer (new embedding layer for each model)\n",
        "tf.random.set_seed(42)\n",
        "from tensorflow.keras import layers\n",
        "GRU_model_embedding = layers.Embedding(input_dim=max_vocab_length,\n",
        "                                     output_dim=128,\n",
        "                                     embeddings_initializer=\"uniform\",\n",
        "                                     input_length=max_length,\n",
        "                                     name=\"GRU_model_embedding\")\n",
        "\n",
        "# Build an RNN using the GRU cell\n",
        "inputs = layers.Input(shape=(1,), dtype=\"string\")\n",
        "x = text_vectorizer(inputs)\n",
        "x = GRU_model_embedding(x)\n",
        "# x = layers.GRU(64, return_sequences=True) # stacking recurrent cells requires return_sequences=True\n",
        "x = layers.GRU(64)(x)\n",
        "x = layers.Dense(64, activation=\"relu\", kernel_regularizer=regularizers.l2(0.01))(x) # optional dense layer after GRU cell\n",
        "outputs = layers.Dense(27, activation=\"softmax\")(x)\n",
        "GRU_model = tf.keras.Model(inputs, outputs, name=\"model_GRU\")"
      ],
      "metadata": {
        "id": "TdbZmSR6fZ3k"
      },
      "execution_count": null,
      "outputs": []
    },
    {
      "cell_type": "code",
      "source": [
        "# Compile GRU model\n",
        "GRU_model.compile(loss=\"sparse_categorical_crossentropy\",\n",
        "                optimizer=tf.keras.optimizers.Adam(),\n",
        "                metrics=[\"accuracy\"])"
      ],
      "metadata": {
        "id": "edaz83CUgb88"
      },
      "execution_count": null,
      "outputs": []
    },
    {
      "cell_type": "code",
      "source": [
        "# Get a summary of the GRU model\n",
        "GRU_model.summary()"
      ],
      "metadata": {
        "colab": {
          "base_uri": "https://localhost:8080/"
        },
        "id": "u6u9MiVigr_e",
        "outputId": "3f0397e4-52f2-4b36-ed77-2644aa662c5b"
      },
      "execution_count": null,
      "outputs": [
        {
          "output_type": "stream",
          "name": "stdout",
          "text": [
            "Model: \"model_GRU\"\n",
            "_________________________________________________________________\n",
            " Layer (type)                Output Shape              Param #   \n",
            "=================================================================\n",
            " input_3 (InputLayer)        [(None, 1)]               0         \n",
            "                                                                 \n",
            " text_vectorization_2 (Text  (None, 102)               0         \n",
            " Vectorization)                                                  \n",
            "                                                                 \n",
            " GRU_model_embedding (Embed  (None, 102, 128)          6921984   \n",
            " ding)                                                           \n",
            "                                                                 \n",
            " gru (GRU)                   (None, 64)                37248     \n",
            "                                                                 \n",
            " dense_4 (Dense)             (None, 64)                4160      \n",
            "                                                                 \n",
            " dense_5 (Dense)             (None, 27)                1755      \n",
            "                                                                 \n",
            "=================================================================\n",
            "Total params: 6965147 (26.57 MB)\n",
            "Trainable params: 6965147 (26.57 MB)\n",
            "Non-trainable params: 0 (0.00 Byte)\n",
            "_________________________________________________________________\n"
          ]
        }
      ]
    },
    {
      "cell_type": "code",
      "source": [
        "# Fit model\n",
        "GRU_model_history = GRU_model.fit(train_sentences,\n",
        "                              train_labels,\n",
        "                              epochs=10,\n",
        "                              validation_data=(val_sentences, val_labels),\n",
        "                              callbacks=[early_stopping])"
      ],
      "metadata": {
        "colab": {
          "base_uri": "https://localhost:8080/"
        },
        "id": "p4wDjOpOgw3l",
        "outputId": "ae1753f7-ed73-4b92-894c-c7b532146827"
      },
      "execution_count": null,
      "outputs": [
        {
          "output_type": "stream",
          "name": "stdout",
          "text": [
            "Epoch 1/10\n",
            "1525/1525 [==============================] - 231s 150ms/step - loss: 2.3646 - accuracy: 0.2884 - val_loss: 1.9842 - val_accuracy: 0.4286\n",
            "Epoch 2/10\n",
            "1525/1525 [==============================] - 227s 149ms/step - loss: 1.7895 - accuracy: 0.4851 - val_loss: 1.7623 - val_accuracy: 0.4893\n",
            "Epoch 3/10\n",
            "1525/1525 [==============================] - 226s 148ms/step - loss: 1.4319 - accuracy: 0.5947 - val_loss: 1.7519 - val_accuracy: 0.5100\n",
            "Epoch 4/10\n",
            "1525/1525 [==============================] - 227s 149ms/step - loss: 1.1046 - accuracy: 0.6897 - val_loss: 1.8970 - val_accuracy: 0.5059\n",
            "Epoch 5/10\n",
            "1525/1525 [==============================] - 228s 149ms/step - loss: 0.8237 - accuracy: 0.7775 - val_loss: 2.1875 - val_accuracy: 0.4867\n",
            "Epoch 6/10\n",
            "1525/1525 [==============================] - 225s 148ms/step - loss: 0.6307 - accuracy: 0.8341 - val_loss: 2.4470 - val_accuracy: 0.4769\n"
          ]
        }
      ]
    },
    {
      "cell_type": "code",
      "source": [
        "pd.DataFrame(GRU_model_history.history).plot(figsize=(10, 7));"
      ],
      "metadata": {
        "colab": {
          "base_uri": "https://localhost:8080/",
          "height": 599
        },
        "id": "WjGuHeVYg4au",
        "outputId": "369bbb24-906c-4fc4-c26b-b4fe313aebda"
      },
      "execution_count": null,
      "outputs": [
        {
          "output_type": "display_data",
          "data": {
            "text/plain": [
              "<Figure size 1000x700 with 1 Axes>"
            ],
            "image/png": "[encoded data removed]"
          },
          "metadata": {}
        }
      ]
    },
    {
      "cell_type": "code",
      "source": [
        "# Make predictions on the validation dataset\n",
        "GRU_model_pred_probs = GRU_model.predict(val_sentences)\n",
        "GRU_model_pred_probs.shape, GRU_model_pred_probs[:5] # view the first 5"
      ],
      "metadata": {
        "colab": {
          "base_uri": "https://localhost:8080/"
        },
        "id": "1-cFqRzchylt",
        "outputId": "0c2b5559-c286-4835-f170-82f2d2d5d76c"
      },
      "execution_count": null,
      "outputs": [
        {
          "output_type": "stream",
          "name": "stdout",
          "text": [
            "170/170 [==============================] - 4s 23ms/step\n"
          ]
        },
        {
          "output_type": "execute_result",
          "data": {
            "text/plain": [
              "((5422, 27),\n",
              " array([[6.02031033e-03, 2.23744614e-03, 1.33601003e-04, 4.96701919e-04,\n",
              "         1.43780911e-04, 5.63549519e-01, 1.47268586e-02, 1.09371278e-04,\n",
              "         1.24756105e-01, 6.99086906e-03, 2.81126529e-04, 5.40082624e-07,\n",
              "         3.20972831e-05, 2.69247248e-04, 7.51440120e-06, 2.85484479e-03,\n",
              "         5.10074897e-03, 1.29370492e-05, 1.18056509e-04, 2.16748536e-01,\n",
              "         2.14723332e-05, 2.01391932e-02, 1.56106796e-06, 4.16096809e-05,\n",
              "         3.49072516e-02, 1.20511657e-04, 1.78179267e-04],\n",
              "        [2.76830222e-04, 7.20081653e-06, 2.85487458e-05, 1.27619705e-05,\n",
              "         1.02497841e-04, 3.10118264e-03, 1.72654877e-03, 4.08827473e-04,\n",
              "         9.58767653e-01, 2.23611481e-04, 4.94759333e-05, 1.06505027e-09,\n",
              "         5.18945089e-05, 1.13157832e-04, 2.21521930e-07, 1.11345907e-04,\n",
              "         8.18986271e-04, 9.78561843e-07, 1.98652151e-06, 2.51013506e-02,\n",
              "         1.10016845e-05, 4.62042028e-03, 9.04645816e-08, 4.90311550e-07,\n",
              "         4.20471234e-03, 2.56039290e-04, 2.20536822e-06],\n",
              "        [8.14213604e-02, 6.18406050e-02, 1.20916404e-01, 2.05173448e-01,\n",
              "         2.75134598e-03, 3.15761231e-02, 1.08035570e-02, 1.01748563e-03,\n",
              "         2.13513570e-03, 2.79310554e-01, 4.19048257e-02, 3.58208059e-03,\n",
              "         1.10044074e-03, 7.49676081e-04, 1.17223954e-03, 6.02134466e-02,\n",
              "         5.36865229e-03, 1.82509783e-03, 2.57072859e-02, 1.38664106e-03,\n",
              "         1.34745045e-02, 3.93259600e-02, 2.00114958e-03, 2.40911543e-03,\n",
              "         6.60010730e-04, 2.04823236e-03, 1.24577709e-04],\n",
              "        [2.31078751e-02, 1.93398606e-04, 1.93918403e-03, 8.36894251e-05,\n",
              "         5.99868088e-07, 2.71517251e-06, 1.90019398e-03, 5.07470546e-08,\n",
              "         6.87368010e-05, 1.63713721e-05, 1.41047500e-03, 2.00627846e-06,\n",
              "         4.13577982e-06, 7.90776372e-01, 8.65389005e-09, 8.42464033e-06,\n",
              "         3.71126854e-03, 1.18414007e-08, 2.22750742e-08, 1.60489799e-05,\n",
              "         1.93291018e-03, 1.79454446e-06, 1.86549528e-06, 1.19481147e-09,\n",
              "         1.23776877e-02, 1.55309477e-04, 1.62288889e-01],\n",
              "        [5.47911804e-06, 5.37259393e-06, 6.31745148e-04, 5.77456609e-04,\n",
              "         1.70180993e-03, 1.15142255e-04, 6.03273691e-07, 6.11046935e-03,\n",
              "         2.85144006e-06, 2.75964290e-03, 6.46063272e-05, 3.67967458e-03,\n",
              "         8.81062995e-04, 3.36679506e-07, 7.46508360e-01, 3.58829228e-03,\n",
              "         3.68797942e-06, 2.93724649e-02, 4.21401709e-02, 9.27207395e-08,\n",
              "         2.33474821e-05, 2.26281511e-04, 7.62879252e-02, 8.52841809e-02,\n",
              "         3.91267676e-08, 2.87861694e-05, 8.14045222e-08]], dtype=float32))"
            ]
          },
          "metadata": {},
          "execution_count": 67
        }
      ]
    },
    {
      "cell_type": "code",
      "source": [
        "# Round out predictions and reduce to 1-dimensional array\n",
        "GRU_models_preds = np.argmax(GRU_model.predict(val_sentences), axis=1)\n",
        "GRU_models_preds[:10]"
      ],
      "metadata": {
        "colab": {
          "base_uri": "https://localhost:8080/"
        },
        "id": "31uHRmnCh-BM",
        "outputId": "7305eab6-8bb5-42f6-f26e-3280e7e4e6c5"
      },
      "execution_count": null,
      "outputs": [
        {
          "output_type": "stream",
          "name": "stdout",
          "text": [
            "170/170 [==============================] - 2s 14ms/step\n"
          ]
        },
        {
          "output_type": "execute_result",
          "data": {
            "text/plain": [
              "array([ 5,  8,  9, 13, 14, 21,  7,  7,  7, 13])"
            ]
          },
          "metadata": {},
          "execution_count": 68
        }
      ]
    },
    {
      "cell_type": "code",
      "source": [
        "# Calculate LSTM model results\n",
        "GRU_models_results = calculate_results(y_true=val_labels,\n",
        "                                    y_pred=GRU_models_preds)\n",
        "GRU_models_results"
      ],
      "metadata": {
        "colab": {
          "base_uri": "https://localhost:8080/"
        },
        "id": "8w1Ua381iAy-",
        "outputId": "85ec2c25-87e7-488b-bf41-3a0975dce8b4"
      },
      "execution_count": null,
      "outputs": [
        {
          "output_type": "stream",
          "name": "stderr",
          "text": [
            "/usr/local/lib/python3.10/dist-packages/sklearn/metrics/_classification.py:1344: UndefinedMetricWarning: Precision and F-score are ill-defined and being set to 0.0 in labels with no predicted samples. Use `zero_division` parameter to control this behavior.\n",
            "  _warn_prf(average, modifier, msg_start, len(result))\n"
          ]
        },
        {
          "output_type": "execute_result",
          "data": {
            "text/plain": [
              "{'accuracy': 47.694577646624865,\n",
              " 'precision': 0.46374713496264347,\n",
              " 'recall': 0.47694577646624864,\n",
              " 'f1': 0.4680491734565323}"
            ]
          },
          "metadata": {},
          "execution_count": 69
        }
      ]
    },
    {
      "cell_type": "markdown",
      "source": [
        "## Bidirectional"
      ],
      "metadata": {
        "id": "MT7U5LPwR8W0"
      }
    },
    {
      "cell_type": "code",
      "source": [
        "# Set random seed and create embedding layer (new embedding layer for each model)\n",
        "tf.random.set_seed(42)\n",
        "from tensorflow.keras import layers\n",
        "bi_directional_model_embedding = layers.Embedding(input_dim=max_vocab_length,\n",
        "                                     output_dim=128,\n",
        "                                     embeddings_initializer=\"uniform\",\n",
        "                                     input_length=max_length,\n",
        "                                     name=\"Bi_directional_embedding\")\n",
        "\n",
        "# Build a Bidirectional RNN in TensorFlow\n",
        "inputs = layers.Input(shape=(1,), dtype=\"string\")\n",
        "x = text_vectorizer(inputs)\n",
        "x = bi_directional_model_embedding(x)\n",
        "# x = layers.Bidirectional(layers.LSTM(64, return_sequences=True))(x) # stacking RNN layers requires return_sequences=True\n",
        "x = layers.Bidirectional(layers.LSTM(64))(x) # bidirectional goes both ways so has double the parameters of a regular LSTM layer\n",
        "outputs = layers.Dense(27, activation=\"softmax\")(x)\n",
        "bi_d_model = tf.keras.Model(inputs, outputs, name=\"model_Bidirectional\")"
      ],
      "metadata": {
        "id": "AGdW0LEcR-yD"
      },
      "execution_count": null,
      "outputs": []
    },
    {
      "cell_type": "code",
      "source": [
        "# Compile GRU model\n",
        "bi_d_model.compile(loss=\"sparse_categorical_crossentropy\",\n",
        "                optimizer=tf.keras.optimizers.Adam(),\n",
        "                metrics=[\"accuracy\"])"
      ],
      "metadata": {
        "id": "B9Em93cCSTxm"
      },
      "execution_count": null,
      "outputs": []
    },
    {
      "cell_type": "code",
      "source": [
        "# Fit model\n",
        "bi_d_model_history = bi_d_model.fit(train_sentences,\n",
        "                              train_labels,\n",
        "                              epochs=10,\n",
        "                              validation_data=(val_sentences, val_labels),\n",
        "                              callbacks=[early_stopping])"
      ],
      "metadata": {
        "colab": {
          "base_uri": "https://localhost:8080/"
        },
        "id": "RluD-5BTSfPV",
        "outputId": "1e62507f-f65d-45f8-f995-addf33ccfe9e"
      },
      "execution_count": null,
      "outputs": [
        {
          "output_type": "stream",
          "name": "stdout",
          "text": [
            "Epoch 1/10\n",
            "1525/1525 [==============================] - 324s 210ms/step - loss: 1.8446 - accuracy: 0.4713 - val_loss: 1.6168 - val_accuracy: 0.5325\n",
            "Epoch 2/10\n",
            "1525/1525 [==============================] - 315s 207ms/step - loss: 1.2825 - accuracy: 0.6362 - val_loss: 1.5926 - val_accuracy: 0.5417\n",
            "Epoch 3/10\n",
            "1525/1525 [==============================] - 313s 205ms/step - loss: 0.8756 - accuracy: 0.7508 - val_loss: 1.7241 - val_accuracy: 0.5347\n",
            "Epoch 4/10\n",
            "1525/1525 [==============================] - 308s 202ms/step - loss: 0.5658 - accuracy: 0.8373 - val_loss: 1.9869 - val_accuracy: 0.5190\n",
            "Epoch 5/10\n",
            "1525/1525 [==============================] - 311s 204ms/step - loss: 0.3459 - accuracy: 0.9012 - val_loss: 2.4243 - val_accuracy: 0.5018\n"
          ]
        }
      ]
    },
    {
      "cell_type": "code",
      "source": [
        "pd.DataFrame(bi_d_model_history.history).plot(figsize=(10, 7))"
      ],
      "metadata": {
        "colab": {
          "base_uri": "https://localhost:8080/",
          "height": 617
        },
        "id": "ey1pt6sfTEnL",
        "outputId": "bc4d0804-4622-4f8e-beb6-099b00d1e70d"
      },
      "execution_count": null,
      "outputs": [
        {
          "output_type": "execute_result",
          "data": {
            "text/plain": [
              "<Axes: >"
            ]
          },
          "metadata": {},
          "execution_count": 73
        },
        {
          "output_type": "display_data",
          "data": {
            "text/plain": [
              "<Figure size 1000x700 with 1 Axes>"
            ],
            "image/png": "[encoded data removed]"
          },
          "metadata": {}
        }
      ]
    },
    {
      "cell_type": "code",
      "source": [
        "# Make predictions on the validation dataset\n",
        "bi_d_model_pred_probs = bi_d_model.predict(val_sentences)\n",
        "bi_d_model_pred_probs.shape, bi_d_model_pred_probs[:5] # view the first 5"
      ],
      "metadata": {
        "colab": {
          "base_uri": "https://localhost:8080/"
        },
        "id": "N77CfDfpSvAm",
        "outputId": "98b19be0-8347-4462-9347-67bc932c19fe"
      },
      "execution_count": null,
      "outputs": [
        {
          "output_type": "stream",
          "name": "stdout",
          "text": [
            "170/170 [==============================] - 5s 27ms/step\n"
          ]
        },
        {
          "output_type": "execute_result",
          "data": {
            "text/plain": [
              "((5422, 27),\n",
              " array([[2.5946659e-03, 6.3222105e-05, 3.4089037e-04, 2.5007187e-06,\n",
              "         7.7550554e-05, 3.1764813e-02, 5.6762584e-02, 1.2698534e-05,\n",
              "         6.2977672e-01, 2.1656597e-04, 2.7862105e-05, 1.3025117e-06,\n",
              "         3.6677382e-05, 5.1150215e-04, 1.5410676e-07, 4.8631311e-05,\n",
              "         3.3761878e-03, 8.8048927e-07, 1.5473117e-05, 1.7391006e-03,\n",
              "         3.6793433e-06, 8.5833024e-05, 1.8302515e-07, 1.1984512e-06,\n",
              "         2.7245665e-01, 5.9171296e-05, 2.3233217e-05],\n",
              "        [1.2906264e-04, 2.1418071e-04, 1.7244421e-04, 7.1073766e-05,\n",
              "         3.3231833e-04, 4.7330870e-03, 9.6715416e-04, 2.1053301e-04,\n",
              "         9.2256272e-01, 4.5459867e-03, 2.8804649e-04, 5.4255918e-07,\n",
              "         8.4600186e-05, 4.8743907e-05, 8.3848172e-06, 2.7259642e-03,\n",
              "         8.0141285e-04, 9.5075693e-06, 1.5136629e-04, 5.3597186e-02,\n",
              "         6.2333847e-06, 6.5924409e-03, 3.7414775e-06, 4.2652473e-06,\n",
              "         1.6099770e-03, 1.1406173e-04, 1.4761691e-05],\n",
              "        [1.3809067e-01, 1.2076221e-02, 2.4713561e-01, 5.9134038e-03,\n",
              "         1.3965580e-02, 2.5064958e-02, 2.2587121e-01, 1.1504821e-02,\n",
              "         7.3045135e-02, 1.0763175e-02, 1.9448427e-02, 1.8875849e-03,\n",
              "         2.3981450e-02, 6.5372800e-03, 7.9848693e-04, 6.9330893e-03,\n",
              "         7.2862945e-02, 1.6472250e-03, 9.0965126e-03, 1.7550227e-03,\n",
              "         1.0374937e-02, 1.1773703e-02, 2.7664430e-03, 1.1942670e-03,\n",
              "         5.6010861e-02, 6.8869074e-03, 2.6140860e-03],\n",
              "        [1.9470211e-04, 6.1789840e-05, 5.0557515e-04, 8.9762543e-06,\n",
              "         8.8662006e-07, 1.9633464e-05, 2.3847393e-04, 3.2420128e-05,\n",
              "         3.5056994e-05, 1.5933765e-06, 3.4888581e-04, 1.2864471e-06,\n",
              "         7.9108950e-06, 9.8564619e-01, 6.4534049e-09, 1.0437974e-08,\n",
              "         3.1857640e-03, 2.0021425e-07, 6.0323578e-06, 4.0809965e-08,\n",
              "         6.2443898e-03, 3.2739894e-04, 8.8665809e-07, 1.0684571e-07,\n",
              "         2.8391723e-03, 3.1417378e-06, 2.8945005e-04],\n",
              "        [2.9617897e-07, 2.0967271e-07, 5.5592777e-06, 4.2762567e-06,\n",
              "         4.4958942e-05, 7.8604180e-06, 2.1069587e-08, 2.7996729e-04,\n",
              "         1.3034889e-07, 4.1554216e-05, 5.1853084e-07, 1.4761396e-05,\n",
              "         4.1459712e-06, 1.0552708e-08, 9.9394816e-01, 3.2073350e-03,\n",
              "         2.1000589e-07, 2.5386413e-04, 4.6536741e-05, 1.5767434e-07,\n",
              "         4.9054955e-07, 5.0284445e-05, 2.1707462e-04, 1.8705918e-03,\n",
              "         5.0023856e-09, 1.0502733e-07, 9.6263375e-07]], dtype=float32))"
            ]
          },
          "metadata": {},
          "execution_count": 74
        }
      ]
    },
    {
      "cell_type": "code",
      "source": [
        "# Round out predictions and reduce to 1-dimensional array\n",
        "bi_d_models_preds = np.argmax(bi_d_model.predict(val_sentences), axis=1)\n",
        "bi_d_models_preds[:10]"
      ],
      "metadata": {
        "colab": {
          "base_uri": "https://localhost:8080/"
        },
        "id": "iA-bOSmLSxNi",
        "outputId": "05745b4c-2c00-465d-bba1-3fb191c04d01"
      },
      "execution_count": null,
      "outputs": [
        {
          "output_type": "stream",
          "name": "stdout",
          "text": [
            "170/170 [==============================] - 5s 32ms/step\n"
          ]
        },
        {
          "output_type": "execute_result",
          "data": {
            "text/plain": [
              "array([ 8,  8,  2, 13, 14,  7,  7, 21,  7,  8])"
            ]
          },
          "metadata": {},
          "execution_count": 75
        }
      ]
    },
    {
      "cell_type": "code",
      "source": [
        "# Calculate LSTM model results\n",
        "bi_d_models_results = calculate_results(y_true=val_labels,\n",
        "                                    y_pred=bi_d_models_preds)\n",
        "bi_d_models_results"
      ],
      "metadata": {
        "colab": {
          "base_uri": "https://localhost:8080/"
        },
        "id": "Pb6E9rkiS0Sn",
        "outputId": "b626cb81-d70c-4269-e5fe-62722f404a85"
      },
      "execution_count": null,
      "outputs": [
        {
          "output_type": "execute_result",
          "data": {
            "text/plain": [
              "{'accuracy': 50.18443378827001,\n",
              " 'precision': 0.4919297427581656,\n",
              " 'recall': 0.5018443378827001,\n",
              " 'f1': 0.49391204694198404}"
            ]
          },
          "metadata": {},
          "execution_count": 76
        }
      ]
    },
    {
      "cell_type": "markdown",
      "source": [
        "## Transfer Learning"
      ],
      "metadata": {
        "id": "rCWy3Znbw_AK"
      }
    },
    {
      "cell_type": "markdown",
      "source": [
        "### Feature Extarction"
      ],
      "metadata": {
        "id": "OlV-KuqNMYFI"
      }
    },
    {
      "cell_type": "markdown",
      "source": [
        "#### On original dataset"
      ],
      "metadata": {
        "id": "wyEXnKHrKD3I"
      }
    },
    {
      "cell_type": "code",
      "source": [
        "# We can use this encoding layer in place of our text_vectorizer and embedding layer\n",
        "import tensorflow_hub as hub\n",
        "sentence_encoder_layer_original = hub.KerasLayer(\"https://tfhub.dev/google/universal-sentence-encoder/4\",\n",
        "                                        input_shape=[], # shape of inputs coming to our model\n",
        "                                        dtype=tf.string, # data type of inputs coming to the USE layer\n",
        "                                        trainable=False, # keep the pretrained weights (we'll create a feature extractor)\n",
        "                                        name=\"USE\")"
      ],
      "metadata": {
        "id": "NShIKrwbKM9M"
      },
      "execution_count": null,
      "outputs": []
    },
    {
      "cell_type": "code",
      "source": [
        "# Create model using the Sequential API\n",
        "model_USE_original = tf.keras.Sequential([\n",
        "  sentence_encoder_layer_original, # take in sentences and then encode them into an embedding\n",
        "  layers.Dense(64, activation=\"relu\"),\n",
        "  layers.Dense(27, activation=\"softmax\")\n",
        "], name=\"model_USE\")\n",
        "\n",
        "# Compile model\n",
        "model_USE_original.compile(loss=\"sparse_categorical_crossentropy\",\n",
        "                optimizer=tf.keras.optimizers.Adam(),\n",
        "                metrics=[\"accuracy\"])\n",
        "\n",
        "model_USE_original.summary()"
      ],
      "metadata": {
        "colab": {
          "base_uri": "https://localhost:8080/"
        },
        "id": "3dEgfz9-KSSb",
        "outputId": "82eb4d5b-e965-4269-9acd-34cf82b0bb2d"
      },
      "execution_count": null,
      "outputs": [
        {
          "output_type": "stream",
          "name": "stdout",
          "text": [
            "Model: \"model_USE\"\n",
            "_________________________________________________________________\n",
            " Layer (type)                Output Shape              Param #   \n",
            "=================================================================\n",
            " USE (KerasLayer)            (None, 512)               256797824 \n",
            "                                                                 \n",
            " dense_7 (Dense)             (None, 64)                32832     \n",
            "                                                                 \n",
            " dense_8 (Dense)             (None, 27)                1755      \n",
            "                                                                 \n",
            "=================================================================\n",
            "Total params: 256832411 (979.74 MB)\n",
            "Trainable params: 34587 (135.11 KB)\n",
            "Non-trainable params: 256797824 (979.61 MB)\n",
            "_________________________________________________________________\n"
          ]
        }
      ]
    },
    {
      "cell_type": "code",
      "source": [
        "# Fit model\n",
        "model_USE_original_history = model_USE_original.fit(train_sentences,\n",
        "                              train_labels,\n",
        "                              epochs=30,\n",
        "                              validation_data=(val_sentences, val_labels),\n",
        "                              callbacks=[early_stopping])"
      ],
      "metadata": {
        "colab": {
          "base_uri": "https://localhost:8080/"
        },
        "id": "wfYRWYhnKUZD",
        "outputId": "bd468121-0159-4716-a265-038326b4a999"
      },
      "execution_count": null,
      "outputs": [
        {
          "output_type": "stream",
          "name": "stdout",
          "text": [
            "Epoch 1/30\n",
            "1525/1525 [==============================] - 43s 26ms/step - loss: 1.6912 - accuracy: 0.5140 - val_loss: 1.4612 - val_accuracy: 0.5579\n",
            "Epoch 2/30\n",
            "1525/1525 [==============================] - 36s 23ms/step - loss: 1.3987 - accuracy: 0.5669 - val_loss: 1.3838 - val_accuracy: 0.5690\n",
            "Epoch 3/30\n",
            "1525/1525 [==============================] - 38s 25ms/step - loss: 1.3448 - accuracy: 0.5786 - val_loss: 1.3655 - val_accuracy: 0.5786\n",
            "Epoch 4/30\n",
            "1525/1525 [==============================] - 38s 25ms/step - loss: 1.3175 - accuracy: 0.5836 - val_loss: 1.3614 - val_accuracy: 0.5769\n",
            "Epoch 5/30\n",
            "1525/1525 [==============================] - 38s 25ms/step - loss: 1.2985 - accuracy: 0.5885 - val_loss: 1.3478 - val_accuracy: 0.5782\n",
            "Epoch 6/30\n",
            "1525/1525 [==============================] - 38s 25ms/step - loss: 1.2834 - accuracy: 0.5910 - val_loss: 1.3480 - val_accuracy: 0.5799\n",
            "Epoch 7/30\n",
            "1525/1525 [==============================] - 38s 25ms/step - loss: 1.2704 - accuracy: 0.5964 - val_loss: 1.3446 - val_accuracy: 0.5793\n",
            "Epoch 8/30\n",
            "1525/1525 [==============================] - 36s 24ms/step - loss: 1.2587 - accuracy: 0.5978 - val_loss: 1.3447 - val_accuracy: 0.5793\n",
            "Epoch 9/30\n",
            "1525/1525 [==============================] - 36s 24ms/step - loss: 1.2481 - accuracy: 0.6012 - val_loss: 1.3409 - val_accuracy: 0.5821\n",
            "Epoch 10/30\n",
            "1525/1525 [==============================] - 38s 25ms/step - loss: 1.2392 - accuracy: 0.6024 - val_loss: 1.3449 - val_accuracy: 0.5773\n",
            "Epoch 11/30\n",
            "1525/1525 [==============================] - 38s 25ms/step - loss: 1.2302 - accuracy: 0.6056 - val_loss: 1.3417 - val_accuracy: 0.5788\n",
            "Epoch 12/30\n",
            "1525/1525 [==============================] - 37s 24ms/step - loss: 1.2224 - accuracy: 0.6066 - val_loss: 1.3470 - val_accuracy: 0.5791\n"
          ]
        }
      ]
    },
    {
      "cell_type": "code",
      "source": [
        "pd.DataFrame(model_USE_original_history.history).plot(figsize=(10, 7));"
      ],
      "metadata": {
        "colab": {
          "base_uri": "https://localhost:8080/",
          "height": 599
        },
        "id": "rGzZNaeZKXBN",
        "outputId": "d34f3ad4-f085-4d68-fc21-5ec5e49d93ad"
      },
      "execution_count": null,
      "outputs": [
        {
          "output_type": "display_data",
          "data": {
            "text/plain": [
              "<Figure size 1000x700 with 1 Axes>"
            ],
            "image/png": "[encoded data removed]"
          },
          "metadata": {}
        }
      ]
    },
    {
      "cell_type": "code",
      "source": [
        "# Make predictions on the validation dataset\n",
        "model_USE_original_pred_probs = model_USE_original.predict(val_sentences)\n",
        "model_USE_original_pred_probs.shape, model_USE_original_pred_probs[:5] # view the first 5"
      ],
      "metadata": {
        "colab": {
          "base_uri": "https://localhost:8080/"
        },
        "id": "gFSLqIh0KZ5d",
        "outputId": "e50ebca5-d8b8-455b-ac41-404a850a8e33"
      },
      "execution_count": null,
      "outputs": [
        {
          "output_type": "stream",
          "name": "stdout",
          "text": [
            "170/170 [==============================] - 3s 17ms/step\n"
          ]
        },
        {
          "output_type": "execute_result",
          "data": {
            "text/plain": [
              "((5422, 27),\n",
              " array([[6.7795748e-03, 3.4448665e-04, 6.2716128e-03, 3.4238398e-04,\n",
              "         2.3221616e-03, 1.1910466e-01, 2.8052307e-03, 8.8356910e-03,\n",
              "         6.7816573e-01, 7.2484760e-04, 3.2133677e-03, 1.3740538e-06,\n",
              "         6.0165150e-04, 2.6113715e-02, 3.2896125e-05, 1.6075835e-03,\n",
              "         1.2909796e-02, 1.3354236e-06, 5.2306270e-05, 1.1805991e-02,\n",
              "         4.3055336e-03, 2.0760788e-02, 1.9018592e-06, 1.5578386e-06,\n",
              "         9.2829578e-02, 2.2793412e-05, 4.1524087e-05],\n",
              "        [1.9936646e-04, 3.4144116e-03, 8.8548011e-05, 2.3744725e-04,\n",
              "         2.7827537e-04, 3.2329675e-02, 5.6286342e-04, 9.2047099e-03,\n",
              "         5.4756445e-01, 3.8346191e-04, 8.2115160e-04, 1.7441834e-06,\n",
              "         7.4963187e-05, 4.1037090e-03, 1.1894728e-04, 1.6153682e-03,\n",
              "         6.0849951e-04, 4.4109875e-05, 5.8470596e-05, 4.7287755e-03,\n",
              "         3.7992484e-04, 3.9031708e-01, 3.2777609e-07, 5.9122547e-05,\n",
              "         2.6853159e-03, 5.1269657e-05, 6.8034125e-05],\n",
              "        [3.0342143e-02, 2.3786069e-03, 4.4349395e-02, 3.8950972e-03,\n",
              "         4.2820685e-03, 3.6712816e-01, 1.1251839e-02, 3.3411413e-01,\n",
              "         4.4872299e-02, 8.7566292e-03, 1.2318133e-03, 1.1413829e-04,\n",
              "         2.2902747e-03, 2.9906087e-02, 1.4197285e-04, 1.7942891e-04,\n",
              "         8.9262687e-03, 2.5695658e-03, 1.0141788e-02, 2.8146998e-04,\n",
              "         2.1880137e-02, 3.6029395e-02, 6.3304302e-05, 6.2175933e-03,\n",
              "         2.7002430e-02, 2.1625223e-05, 1.6322386e-03],\n",
              "        [8.5567514e-04, 3.1305582e-04, 7.3014963e-03, 1.3190522e-02,\n",
              "         1.3087023e-04, 9.3418825e-03, 8.6446299e-04, 2.4944007e-02,\n",
              "         3.8267376e-03, 2.7420057e-03, 1.1306655e-02, 2.0479534e-05,\n",
              "         3.8393197e-04, 8.7804163e-01, 2.8098121e-03, 2.9648590e-04,\n",
              "         3.1970846e-03, 1.8645051e-05, 6.1193533e-04, 1.0668769e-05,\n",
              "         5.3806574e-04, 2.9412296e-02, 2.6789328e-05, 4.6110781e-05,\n",
              "         9.6485382e-03, 2.1308064e-05, 9.8946133e-05],\n",
              "        [1.0365216e-04, 1.2493057e-07, 4.0558807e-05, 1.2733139e-03,\n",
              "         1.5688526e-03, 5.1805942e-04, 1.7287414e-06, 6.3154206e-02,\n",
              "         6.5324391e-04, 2.5200691e-02, 7.9809332e-05, 3.0230734e-04,\n",
              "         1.8438018e-03, 2.7660114e-06, 8.3118796e-01, 4.2080868e-02,\n",
              "         7.9932151e-06, 1.1698706e-03, 1.7947375e-03, 9.7147858e-06,\n",
              "         1.5805088e-05, 2.5203576e-02, 2.1295247e-03, 1.6298519e-03,\n",
              "         2.3026475e-06, 2.0108495e-05, 4.4934191e-06]], dtype=float32))"
            ]
          },
          "metadata": {},
          "execution_count": 81
        }
      ]
    },
    {
      "cell_type": "code",
      "source": [
        "# Round out predictions and reduce to 1-dimensional array\n",
        "model_USE_original_preds = np.argmax(model_USE_original.predict(val_sentences), axis=1)\n",
        "model_USE_original_preds[:10]"
      ],
      "metadata": {
        "colab": {
          "base_uri": "https://localhost:8080/"
        },
        "id": "-baS1NjgKc22",
        "outputId": "46a8cb7d-b98c-4d6a-d559-c71b0071c428"
      },
      "execution_count": null,
      "outputs": [
        {
          "output_type": "stream",
          "name": "stdout",
          "text": [
            "170/170 [==============================] - 3s 17ms/step\n"
          ]
        },
        {
          "output_type": "execute_result",
          "data": {
            "text/plain": [
              "array([ 8,  8,  5, 13, 14,  8,  7, 13,  7,  8])"
            ]
          },
          "metadata": {},
          "execution_count": 82
        }
      ]
    },
    {
      "cell_type": "code",
      "source": [
        "# Calculate LSTM model results\n",
        "model_USE_original_results = calculate_results(y_true=val_labels,\n",
        "                                    y_pred=model_USE_original_preds)\n",
        "model_USE_original_results"
      ],
      "metadata": {
        "colab": {
          "base_uri": "https://localhost:8080/"
        },
        "id": "8RtsuB4pKjfm",
        "outputId": "f05bf666-58ca-4e82-8670-5ded910371c5"
      },
      "execution_count": null,
      "outputs": [
        {
          "output_type": "stream",
          "name": "stderr",
          "text": [
            "/usr/local/lib/python3.10/dist-packages/sklearn/metrics/_classification.py:1344: UndefinedMetricWarning: Precision and F-score are ill-defined and being set to 0.0 in labels with no predicted samples. Use `zero_division` parameter to control this behavior.\n",
            "  _warn_prf(average, modifier, msg_start, len(result))\n"
          ]
        },
        {
          "output_type": "execute_result",
          "data": {
            "text/plain": [
              "{'accuracy': 57.91220951678348,\n",
              " 'precision': 0.5565796983589765,\n",
              " 'recall': 0.5791220951678347,\n",
              " 'f1': 0.5460661292870546}"
            ]
          },
          "metadata": {},
          "execution_count": 83
        }
      ]
    },
    {
      "cell_type": "markdown",
      "source": [
        "### On balance dataset"
      ],
      "metadata": {
        "id": "C9SBov1VKJiu"
      }
    },
    {
      "cell_type": "code",
      "source": [
        "# We can use this encoding layer in place of our text_vectorizer and embedding layer\n",
        "import tensorflow_hub as hub\n",
        "sentence_encoder_layer = hub.KerasLayer(\"https://tfhub.dev/google/universal-sentence-encoder/4\",\n",
        "                                        input_shape=[], # shape of inputs coming to our model\n",
        "                                        dtype=tf.string, # data type of inputs coming to the USE layer\n",
        "                                        trainable=False, # keep the pretrained weights (we'll create a feature extractor)\n",
        "                                        name=\"USE\")"
      ],
      "metadata": {
        "id": "Divka1jVTKNC"
      },
      "execution_count": null,
      "outputs": []
    },
    {
      "cell_type": "code",
      "source": [
        "from sklearn.utils.class_weight import compute_class_weight\n",
        "class_weights = compute_class_weight(\n",
        "                                        class_weight = \"balanced\",\n",
        "                                        classes = np.unique(train_labels),\n",
        "                                        y = train_labels\n",
        "                                    )\n",
        "class_weights = dict(zip(np.unique(train_labels), class_weights))\n",
        "class_weights"
      ],
      "metadata": {
        "colab": {
          "base_uri": "https://localhost:8080/"
        },
        "id": "VszTBLFiDcC2",
        "outputId": "711bc545-413a-47d8-ff56-033da5483768"
      },
      "execution_count": null,
      "outputs": [
        {
          "output_type": "execute_result",
          "data": {
            "text/plain": [
              "{0: 1.5071819108516356,\n",
              " 1: 3.403222431471019,\n",
              " 2: 2.57423235201013,\n",
              " 3: 4.1352657004830915,\n",
              " 4: 7.5929038281979455,\n",
              " 5: 0.2699598313580985,\n",
              " 6: 4.0247463499133875,\n",
              " 7: 0.15349622960257464,\n",
              " 8: 0.1473749071204625,\n",
              " 9: 2.5098765432098764,\n",
              " 10: 6.318570318570319,\n",
              " 11: 10.267676767676768,\n",
              " 12: 8.251648909183157,\n",
              " 13: 0.9053662881318192,\n",
              " 14: 2.775900324287421,\n",
              " 15: 7.059027777777778,\n",
              " 16: 6.210003818251241,\n",
              " 17: 11.086571233810497,\n",
              " 18: 2.3684287170525704,\n",
              " 19: 3.0068404511000186,\n",
              " 20: 3.1428019323671497,\n",
              " 21: 0.3946519133241125,\n",
              " 22: 4.693795093795094,\n",
              " 23: 5.090453834115806,\n",
              " 24: 1.2619490999379268,\n",
              " 25: 14.812386156648452,\n",
              " 26: 1.928613779200759}"
            ]
          },
          "metadata": {},
          "execution_count": 28
        }
      ]
    },
    {
      "cell_type": "code",
      "source": [
        "# Create model using the Sequential API\n",
        "model_USE = tf.keras.Sequential([\n",
        "  sentence_encoder_layer, # take in sentences and then encode them into an embedding\n",
        "  layers.Dense(64, activation=\"relu\"),\n",
        "  layers.Dense(27, activation=\"softmax\")\n",
        "], name=\"model_USE\")\n",
        "\n",
        "# Compile model\n",
        "model_USE.compile(loss=\"sparse_categorical_crossentropy\",\n",
        "                optimizer=tf.keras.optimizers.Adam(),\n",
        "                metrics=[\"accuracy\"])\n",
        "\n",
        "model_USE.summary()"
      ],
      "metadata": {
        "colab": {
          "base_uri": "https://localhost:8080/"
        },
        "id": "N4RqVIpMTZ2V",
        "outputId": "d4cff19e-a8ba-4027-d5b8-58b5967f816c"
      },
      "execution_count": null,
      "outputs": [
        {
          "output_type": "stream",
          "name": "stdout",
          "text": [
            "Model: \"model_USE\"\n",
            "_________________________________________________________________\n",
            " Layer (type)                Output Shape              Param #   \n",
            "=================================================================\n",
            " USE (KerasLayer)            (None, 512)               256797824 \n",
            "                                                                 \n",
            " dense (Dense)               (None, 64)                32832     \n",
            "                                                                 \n",
            " dense_1 (Dense)             (None, 27)                1755      \n",
            "                                                                 \n",
            "=================================================================\n",
            "Total params: 256832411 (979.74 MB)\n",
            "Trainable params: 34587 (135.11 KB)\n",
            "Non-trainable params: 256797824 (979.61 MB)\n",
            "_________________________________________________________________\n"
          ]
        }
      ]
    },
    {
      "cell_type": "code",
      "source": [
        "# Fit model\n",
        "model_USE_history = model_USE.fit(train_sentences,\n",
        "                              train_labels,\n",
        "                              class_weight=class_weights,\n",
        "                              epochs=30,\n",
        "                              validation_data=(val_sentences, val_labels),\n",
        "                              callbacks=[early_stopping])"
      ],
      "metadata": {
        "colab": {
          "base_uri": "https://localhost:8080/"
        },
        "id": "t9DUPSjPTr_D",
        "outputId": "f03635ab-b070-4aba-a0c4-efbe8c95f846"
      },
      "execution_count": null,
      "outputs": [
        {
          "output_type": "stream",
          "name": "stdout",
          "text": [
            "Epoch 1/30\n",
            "1525/1525 [==============================] - 41s 25ms/step - loss: 2.3705 - accuracy: 0.2627 - val_loss: 2.2712 - val_accuracy: 0.3054\n",
            "Epoch 2/30\n",
            "1525/1525 [==============================] - 36s 23ms/step - loss: 1.7950 - accuracy: 0.3196 - val_loss: 2.1156 - val_accuracy: 0.3419\n",
            "Epoch 3/30\n",
            "1525/1525 [==============================] - 38s 25ms/step - loss: 1.6854 - accuracy: 0.3335 - val_loss: 2.1175 - val_accuracy: 0.3266\n",
            "Epoch 4/30\n",
            "1525/1525 [==============================] - 36s 24ms/step - loss: 1.6204 - accuracy: 0.3435 - val_loss: 2.1551 - val_accuracy: 0.3174\n",
            "Epoch 5/30\n",
            "1525/1525 [==============================] - 35s 23ms/step - loss: 1.5788 - accuracy: 0.3500 - val_loss: 1.9961 - val_accuracy: 0.3624\n",
            "Epoch 6/30\n",
            "1525/1525 [==============================] - 35s 23ms/step - loss: 1.5413 - accuracy: 0.3561 - val_loss: 2.0260 - val_accuracy: 0.3534\n",
            "Epoch 7/30\n",
            "1525/1525 [==============================] - 38s 25ms/step - loss: 1.5102 - accuracy: 0.3579 - val_loss: 2.0239 - val_accuracy: 0.3545\n",
            "Epoch 8/30\n",
            "1525/1525 [==============================] - 36s 24ms/step - loss: 1.4811 - accuracy: 0.3622 - val_loss: 2.1130 - val_accuracy: 0.3250\n"
          ]
        }
      ]
    },
    {
      "cell_type": "code",
      "source": [
        "pd.DataFrame(model_USE_history.history).plot(figsize=(10, 7));"
      ],
      "metadata": {
        "colab": {
          "base_uri": "https://localhost:8080/",
          "height": 599
        },
        "id": "EO48YZhEUM92",
        "outputId": "51c0feb7-aa2a-4ca2-96a6-f0c5d503c966"
      },
      "execution_count": null,
      "outputs": [
        {
          "output_type": "display_data",
          "data": {
            "text/plain": [
              "<Figure size 1000x700 with 1 Axes>"
            ],
            "image/png": "[encoded data removed]"
          },
          "metadata": {}
        }
      ]
    },
    {
      "cell_type": "code",
      "source": [
        "# Make predictions on the validation dataset\n",
        "model_USE_pred_probs = model_USE.predict(val_sentences)\n",
        "model_USE_pred_probs.shape, model_USE_pred_probs[:5] # view the first 5"
      ],
      "metadata": {
        "colab": {
          "base_uri": "https://localhost:8080/"
        },
        "id": "YXwe_oPDUc3W",
        "outputId": "d6920956-2ecb-4324-b0c8-9441da74b854"
      },
      "execution_count": null,
      "outputs": [
        {
          "output_type": "stream",
          "name": "stdout",
          "text": [
            "170/170 [==============================] - 4s 19ms/step\n"
          ]
        },
        {
          "output_type": "execute_result",
          "data": {
            "text/plain": [
              "((5422, 27),\n",
              " array([[5.39191207e-03, 1.05437473e-03, 4.95706052e-02, 1.67802616e-03,\n",
              "         8.02465677e-02, 1.37054458e-01, 2.76302211e-02, 7.14617362e-03,\n",
              "         2.34577850e-01, 4.83377324e-03, 2.94379499e-02, 1.50137384e-05,\n",
              "         4.37082211e-03, 2.16037873e-02, 4.03025188e-04, 1.12918429e-02,\n",
              "         1.26389548e-01, 1.81492316e-04, 1.19923346e-03, 5.67207858e-02,\n",
              "         1.33574707e-02, 1.43991904e-02, 1.38589930e-05, 7.54062203e-05,\n",
              "         1.70957267e-01, 2.93254452e-05, 3.70043446e-04],\n",
              "        [2.72077537e-04, 1.85254104e-02, 2.09696451e-03, 3.60050285e-03,\n",
              "         1.18605737e-02, 5.31030148e-02, 2.43446743e-03, 1.20827006e-02,\n",
              "         1.32571191e-01, 4.63306578e-03, 1.40981115e-02, 7.64570996e-06,\n",
              "         2.61570350e-03, 1.13771632e-02, 1.28096761e-03, 1.58162490e-02,\n",
              "         6.19355729e-03, 7.00057577e-03, 1.87082763e-03, 4.97595146e-02,\n",
              "         1.62534730e-03, 6.36866510e-01, 2.43576528e-06, 2.09307158e-03,\n",
              "         7.60369282e-03, 4.38798364e-04, 1.69708816e-04],\n",
              "        [3.01752053e-02, 3.93148279e-03, 2.17253730e-01, 1.45278359e-02,\n",
              "         5.37353531e-02, 8.93562287e-02, 8.24503824e-02, 3.47446874e-02,\n",
              "         6.16844138e-03, 1.61460731e-02, 6.94602868e-03, 6.16194971e-04,\n",
              "         1.75807439e-02, 2.42470056e-02, 8.52321973e-04, 5.17268374e-04,\n",
              "         1.12850137e-01, 5.04095927e-02, 2.29384042e-02, 9.18949489e-04,\n",
              "         1.44503206e-01, 6.31362572e-03, 7.40020594e-04, 1.35327689e-02,\n",
              "         4.46565859e-02, 2.39204146e-05, 3.86379473e-03],\n",
              "        [1.34926231e-03, 1.07919413e-03, 1.25318617e-02, 1.29782595e-02,\n",
              "         1.06994295e-03, 1.33746827e-03, 2.39526178e-03, 8.68141942e-04,\n",
              "         5.53855498e-04, 2.01095571e-03, 3.29611674e-02, 1.22410584e-05,\n",
              "         1.67365314e-03, 8.91244709e-01, 5.48350951e-03, 7.27230625e-04,\n",
              "         1.30219432e-02, 4.78870315e-05, 7.14837690e-04, 1.34895463e-05,\n",
              "         2.90483050e-03, 8.23996589e-03, 4.42752607e-05, 2.91882880e-05,\n",
              "         6.56311447e-03, 4.04581260e-05, 1.03237406e-04],\n",
              "        [5.38251588e-05, 2.65800963e-06, 1.21542587e-04, 1.74744066e-03,\n",
              "         1.20934481e-02, 8.11436912e-05, 1.96710171e-05, 3.63644492e-03,\n",
              "         8.44795504e-05, 4.96711656e-02, 5.46457813e-05, 7.01185782e-03,\n",
              "         1.98781770e-03, 1.02572149e-05, 8.69514287e-01, 2.77139954e-02,\n",
              "         7.18036754e-05, 9.95917525e-03, 8.22252501e-03, 1.17457430e-05,\n",
              "         1.60605141e-05, 1.20261032e-03, 1.80632470e-03, 4.88924328e-03,\n",
              "         4.00312319e-06, 1.04382461e-05, 1.38867290e-06]], dtype=float32))"
            ]
          },
          "metadata": {},
          "execution_count": 32
        }
      ]
    },
    {
      "cell_type": "code",
      "source": [
        "# Round out predictions and reduce to 1-dimensional array\n",
        "model_USE_preds = np.argmax(model_USE.predict(val_sentences), axis=1)\n",
        "model_USE_preds[:10]"
      ],
      "metadata": {
        "colab": {
          "base_uri": "https://localhost:8080/"
        },
        "id": "-S3wiV2JUhBV",
        "outputId": "7005ad4b-fdfa-4587-8dab-bbaf5fa66f60"
      },
      "execution_count": null,
      "outputs": [
        {
          "output_type": "stream",
          "name": "stdout",
          "text": [
            "170/170 [==============================] - 3s 17ms/step\n"
          ]
        },
        {
          "output_type": "execute_result",
          "data": {
            "text/plain": [
              "array([ 8, 21,  2, 13, 14,  6, 12, 13,  7, 25])"
            ]
          },
          "metadata": {},
          "execution_count": 33
        }
      ]
    },
    {
      "cell_type": "code",
      "source": [
        "# Calculate LSTM model results\n",
        "model_USE_results = calculate_results(y_true=val_labels,\n",
        "                                    y_pred=model_USE_preds)\n",
        "model_USE_results"
      ],
      "metadata": {
        "colab": {
          "base_uri": "https://localhost:8080/"
        },
        "id": "70ViiyRvUk0u",
        "outputId": "42bc12ef-a85c-4fa4-918a-f76c92aa0b33"
      },
      "execution_count": null,
      "outputs": [
        {
          "output_type": "execute_result",
          "data": {
            "text/plain": [
              "{'accuracy': 32.49723349317595,\n",
              " 'precision': 0.5685543057422683,\n",
              " 'recall': 0.3249723349317595,\n",
              " 'f1': 0.35988489324026135}"
            ]
          },
          "metadata": {},
          "execution_count": 34
        }
      ]
    }
  ]
}